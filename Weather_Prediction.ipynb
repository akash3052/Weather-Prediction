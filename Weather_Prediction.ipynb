{
  "nbformat": 4,
  "nbformat_minor": 0,
  "metadata": {
    "colab": {
      "name": "Weather_Prediction.ipynb",
      "provenance": []
    },
    "kernelspec": {
      "name": "python3",
      "display_name": "Python 3"
    },
    "accelerator": "GPU"
  },
  "cells": [
    {
      "cell_type": "markdown",
      "metadata": {
        "id": "TABoiE_Ui3xc"
      },
      "source": [
        "**Project Topic:** Weather Condition Prediction from Image"
      ]
    },
    {
      "cell_type": "code",
      "metadata": {
        "colab": {
          "base_uri": "https://localhost:8080/"
        },
        "id": "4YZ4Rv3CqlnD",
        "outputId": "eb4339ef-7884-44e1-9d1e-06b5245e501e"
      },
      "source": [
        "from google.colab import drive\n",
        "drive.mount('/content/drive')"
      ],
      "execution_count": null,
      "outputs": [
        {
          "output_type": "stream",
          "text": [
            "Mounted at /content/drive\n"
          ],
          "name": "stdout"
        }
      ]
    },
    {
      "cell_type": "markdown",
      "metadata": {
        "id": "JSR0KRKHjHqV"
      },
      "source": [
        "**_Abstract:_** Basically, problem is to recognise or predict weather condition(air condition) in given picture(image data) by using different types of Machine Learning or Deep Learning algorithms. "
      ]
    },
    {
      "cell_type": "code",
      "metadata": {
        "id": "oa7aYtrZi9d5"
      },
      "source": [
        ""
      ],
      "execution_count": null,
      "outputs": []
    },
    {
      "cell_type": "code",
      "metadata": {
        "id": "9l9_BPIBExvl"
      },
      "source": [
        "!ln -s /content/drive/My\\ Drive/ mydrive      "
      ],
      "execution_count": null,
      "outputs": []
    },
    {
      "cell_type": "code",
      "metadata": {
        "id": "LSnkXiHRiWCv"
      },
      "source": [
        "n_images = 621"
      ],
      "execution_count": null,
      "outputs": []
    },
    {
      "cell_type": "markdown",
      "metadata": {
        "id": "lGzjDr_3fGbu"
      },
      "source": [
        "**Selecting random 500 images from class 4**"
      ]
    },
    {
      "cell_type": "code",
      "metadata": {
        "id": "cW52k-uNbJLI"
      },
      "source": [
        "import shutil, random, os\n",
        "dirpath = \"/content/mydrive/weather_train_images/4/\"\n",
        "destDirectory = \"/content/drive/My Drive/final_weather_train_data/4/\"\n",
        "print(len(dirpath))\n",
        "\n",
        "filenames = random.sample(os.listdir(dirpath), n_images)\n",
        "print(len(filenames))\n",
        "for fname in filenames:\n",
        "    srcpath = os.path.join(dirpath, fname)\n",
        "    shutil.copy(srcpath, destDirectory)"
      ],
      "execution_count": null,
      "outputs": []
    },
    {
      "cell_type": "code",
      "metadata": {
        "id": "8X2sGjkE2nLn"
      },
      "source": [
        "# f4=os.listdir(\"/content/mydrive/weather_train_images/4/\")\n",
        "# print(len(f4))\n",
        "# f4=os.listdir(\"/content/mydrive/weather_train_images/3/\")\n",
        "# print(len(f4))\n",
        "# f4=os.listdir(\"/content/mydrive/weather_train_images/2/\")\n",
        "# print(len(f4))\n",
        "# f4=os.listdir(\"/content/mydrive/weather_train_images/1/\")\n",
        "# print(len(f4))\n",
        "# f4=os.listdir(\"/content/mydrive/weather_train_images/0/\")\n",
        "# print(len(f4))"
      ],
      "execution_count": null,
      "outputs": []
    },
    {
      "cell_type": "code",
      "metadata": {
        "id": "_Cmd5k7zvCS0",
        "colab": {
          "base_uri": "https://localhost:8080/"
        },
        "outputId": "776eb488-53ea-458c-c870-b451574d2f07"
      },
      "source": [
        "f4=os.listdir(\"/content/mydrive/final_weather_train_data/4/\")\n",
        "print(len(f4))"
      ],
      "execution_count": null,
      "outputs": [
        {
          "output_type": "stream",
          "text": [
            "617\n"
          ],
          "name": "stdout"
        }
      ]
    },
    {
      "cell_type": "code",
      "metadata": {
        "id": "iKBpLAA2e_hy",
        "colab": {
          "base_uri": "https://localhost:8080/"
        },
        "outputId": "9520d868-c72a-4ecf-8e90-5069a6a5096b"
      },
      "source": [
        "f4=os.listdir(\"/content/mydrive/final_weather_train_data/4/\")\n",
        "print(len(f4))"
      ],
      "execution_count": null,
      "outputs": [
        {
          "output_type": "stream",
          "text": [
            "500\n"
          ],
          "name": "stdout"
        }
      ]
    },
    {
      "cell_type": "markdown",
      "metadata": {
        "id": "LDIRjP6UfSYL"
      },
      "source": [
        "**Selecting random 500 images from class 3**"
      ]
    },
    {
      "cell_type": "code",
      "metadata": {
        "id": "2m4w3pHofTh8"
      },
      "source": [
        "import shutil, random, os\n",
        "dirpath = \"/content/mydrive/weather_train_images/3/\"\n",
        "destDirectory = \"/content/drive/My Drive/final_weather_train_data/3/\"\n",
        "!rm /content/mydrive/final_weather_train_data/3/*\n",
        "filenames = random.sample(os.listdir(dirpath), 1250)\n",
        "print(len(filenames))\n",
        "for fname in filenames:\n",
        "    srcpath = os.path.join(dirpath, fname)\n",
        "    shutil.copy(srcpath, destDirectory)"
      ],
      "execution_count": null,
      "outputs": []
    },
    {
      "cell_type": "code",
      "metadata": {
        "id": "mFPPMnqGvZMz"
      },
      "source": [
        "print(len(\"/content/drive/My Drive/final_weather_train_data/3/\"))"
      ],
      "execution_count": null,
      "outputs": []
    },
    {
      "cell_type": "code",
      "metadata": {
        "id": "ugUQg6rWhHXb",
        "colab": {
          "base_uri": "https://localhost:8080/"
        },
        "outputId": "c2475bc8-1227-4f7a-a4c6-146389478b96"
      },
      "source": [
        "f3=os.listdir(\"/content/mydrive/final_weather_train_data/3/\")\n",
        "print(len(f3))"
      ],
      "execution_count": null,
      "outputs": [
        {
          "output_type": "stream",
          "text": [
            "500\n"
          ],
          "name": "stdout"
        }
      ]
    },
    {
      "cell_type": "markdown",
      "metadata": {
        "id": "FKtsc2m4gLx3"
      },
      "source": [
        "**Selecting random 500 images from class 2**"
      ]
    },
    {
      "cell_type": "code",
      "metadata": {
        "id": "4ERAqV2xgNCA"
      },
      "source": [
        "import shutil, random, os\n",
        "dirpath = \"/content/mydrive/weather_train_images/2/\"\n",
        "destDirectory = \"/content/drive/My Drive/final_weather_train_data/2/\"\n",
        "!rm /content/mydrive/final_weather_train_data/2/*\n",
        "print(len(dirpath))\n",
        "\n",
        "filenames = random.sample(os.listdir(dirpath), 1450)\n",
        "print(len(filenames))\n",
        "for fname in filenames:\n",
        "    srcpath = os.path.join(dirpath, fname)\n",
        "    shutil.copy(srcpath, destDirectory)"
      ],
      "execution_count": null,
      "outputs": []
    },
    {
      "cell_type": "code",
      "metadata": {
        "id": "eye0McpCi2GL",
        "colab": {
          "base_uri": "https://localhost:8080/"
        },
        "outputId": "7c649567-1775-4d31-85e3-241dc1fa63c9"
      },
      "source": [
        "f2=os.listdir(\"/content/mydrive/final_weather_train_data/2/\")\n",
        "print(len(f2))"
      ],
      "execution_count": null,
      "outputs": [
        {
          "output_type": "stream",
          "text": [
            "500\n"
          ],
          "name": "stdout"
        }
      ]
    },
    {
      "cell_type": "markdown",
      "metadata": {
        "id": "2HKkSMr0gX_6"
      },
      "source": [
        "**Selecting random 500 images from class 1**"
      ]
    },
    {
      "cell_type": "code",
      "metadata": {
        "id": "iSUtx-wYgZB8"
      },
      "source": [
        "import shutil, random, os\n",
        "dirpath = \"/content/mydrive/weather_train_images/1/\"\n",
        "destDirectory = \"/content/drive/My Drive/final_weather_train_data/1/\"\n",
        "!rm /content/mydrive/final_weather_train_data/1/*\n",
        "filenames = random.sample(os.listdir(dirpath), 10000)\n",
        "print(len(filenames))\n",
        "for fname in filenames:\n",
        "    srcpath = os.path.join(dirpath, fname)\n",
        "    shutil.copy(srcpath, destDirectory)"
      ],
      "execution_count": null,
      "outputs": []
    },
    {
      "cell_type": "code",
      "metadata": {
        "id": "PYaIaTkji7fW"
      },
      "source": [
        "f1=os.listdir(\"/content/mydrive/final_weather_train_data/1/\")\n",
        "print(len(f1))"
      ],
      "execution_count": null,
      "outputs": []
    },
    {
      "cell_type": "code",
      "metadata": {
        "colab": {
          "base_uri": "https://localhost:8080/"
        },
        "id": "t9scIIIcG2Ri",
        "outputId": "573a692c-685c-46fb-eddf-0069dd6bce31"
      },
      "source": [
        "!ls /content/mydrive/weather_train_images/3/ | wc -l"
      ],
      "execution_count": null,
      "outputs": [
        {
          "output_type": "stream",
          "text": [
            "1252\n"
          ],
          "name": "stdout"
        }
      ]
    },
    {
      "cell_type": "code",
      "metadata": {
        "colab": {
          "base_uri": "https://localhost:8080/"
        },
        "id": "mK1LydZuG38A",
        "outputId": "febc4a5c-9101-4842-b91f-621b066e0e02"
      },
      "source": [
        "!ls /content/mydrive/weather_train_images/4/ | wc -l"
      ],
      "execution_count": null,
      "outputs": [
        {
          "output_type": "stream",
          "text": [
            "621\n"
          ],
          "name": "stdout"
        }
      ]
    },
    {
      "cell_type": "markdown",
      "metadata": {
        "id": "98cp_O7pgikq"
      },
      "source": [
        "**Selecting random 500 images from class 0**"
      ]
    },
    {
      "cell_type": "code",
      "metadata": {
        "id": "VsaOPni6gf8j",
        "colab": {
          "base_uri": "https://localhost:8080/"
        },
        "outputId": "0a583f5e-12b8-4b51-9007-a27eddea3ae4"
      },
      "source": [
        "import shutil, random, os\n",
        "dirpath = \"/content/mydrive/weather_train_images/0/\"\n",
        "# dirpath=\"/content/mydrive/new_weather_train_data/0\"\n",
        "destDirectory = \"/content/drive/My Drive/final_weather_train_data/0/\"\n",
        "!rm /content/mydrive/final_weather_train_data/0/*\n",
        "filenames = random.sample(os.listdir(dirpath), 10000)\n",
        "print(len(filenames))\n",
        "for fname in filenames:\n",
        "    srcpath = os.path.join(dirpath, fname)\n",
        "    shutil.copy(srcpath, destDirectory)"
      ],
      "execution_count": null,
      "outputs": [
        {
          "output_type": "stream",
          "text": [
            "10000\n"
          ],
          "name": "stdout"
        }
      ]
    },
    {
      "cell_type": "code",
      "metadata": {
        "id": "iakBKx0Dk2kQ",
        "colab": {
          "base_uri": "https://localhost:8080/"
        },
        "outputId": "b8b8eab2-d55e-46c4-af18-b7f198a7be02"
      },
      "source": [
        "f0=os.listdir(\"/content/mydrive/final_weather_train_data/0/\")\n",
        "print(len(f0))"
      ],
      "execution_count": null,
      "outputs": [
        {
          "output_type": "stream",
          "text": [
            "621\n"
          ],
          "name": "stdout"
        }
      ]
    },
    {
      "cell_type": "code",
      "metadata": {
        "id": "XLe3eGlm26jj"
      },
      "source": [
        ""
      ],
      "execution_count": null,
      "outputs": []
    },
    {
      "cell_type": "code",
      "metadata": {
        "id": "qxcYt0vx6Wmh"
      },
      "source": [
        "import pandas as pd\n",
        "import numpy as np\n",
        "import os\n",
        "import keras\n",
        "import matplotlib.pyplot as plt\n",
        "from keras.layers import Dense,GlobalAveragePooling2D\n",
        "from keras.applications import MobileNet\n",
        "from keras.preprocessing import image\n",
        "from keras.applications.mobilenet import preprocess_input\n",
        "from keras.preprocessing.image import ImageDataGenerator\n",
        "from keras.models import Model\n",
        "from keras.optimizers import Adam\n",
        "from keras.layers import Input"
      ],
      "execution_count": null,
      "outputs": []
    },
    {
      "cell_type": "code",
      "metadata": {
        "id": "gr3lGNl-67lP"
      },
      "source": [
        ""
      ],
      "execution_count": null,
      "outputs": []
    },
    {
      "cell_type": "code",
      "metadata": {
        "id": "t_3XttoC5Hzm"
      },
      "source": [
        "import pandas as pd\n",
        "import numpy as np\n",
        "import matplotlib.pyplot as plt\n",
        "import matplotlib.image as mpimg\n",
        "import os\n",
        "import cv2\n",
        "from google.colab.patches import cv2_imshow\n",
        "import math\n",
        "import seaborn as sns\n",
        "from keras import optimizers, Sequential\n",
        "from keras.layers import Conv2D, MaxPooling2D, Dense, Flatten,Dropout,Activation\n",
        "from keras.utils import to_categorical\n",
        "from tqdm import tqdm\n",
        "from sklearn.model_selection import train_test_split\n",
        "%matplotlib inline"
      ],
      "execution_count": null,
      "outputs": []
    },
    {
      "cell_type": "code",
      "metadata": {
        "id": "F7Hy7Gdi5VtZ"
      },
      "source": [
        "image_paths=[]\n",
        "labels=[]"
      ],
      "execution_count": null,
      "outputs": []
    },
    {
      "cell_type": "markdown",
      "metadata": {
        "id": "YXVTTWeS5cTM"
      },
      "source": [
        "**INSERTING IMAGES AND LABELS OF CLASS 0**"
      ]
    },
    {
      "cell_type": "code",
      "metadata": {
        "id": "BSuMc5nf5dB-"
      },
      "source": [
        "path_of_class0=\"/content/mydrive/final_weather_train_data/0\"\n",
        "for r, d, f in os.walk(path_of_class0):\n",
        "    for file in f:\n",
        "        image_paths.append(os.path.join(r, file))\n",
        "        labels.append(0)"
      ],
      "execution_count": null,
      "outputs": []
    },
    {
      "cell_type": "code",
      "metadata": {
        "id": "_a98G9nC5vrx",
        "colab": {
          "base_uri": "https://localhost:8080/"
        },
        "outputId": "7bd99772-27ef-4ee8-ec42-c174bc5263b2"
      },
      "source": [
        "print(len(image_paths))\n",
        "print(len(labels))"
      ],
      "execution_count": null,
      "outputs": [
        {
          "output_type": "stream",
          "text": [
            "0\n",
            "0\n"
          ],
          "name": "stdout"
        }
      ]
    },
    {
      "cell_type": "markdown",
      "metadata": {
        "id": "QATZYK0--L_T"
      },
      "source": [
        "**INSERTING IMAGES AND LABELS OF CLASS 1**"
      ]
    },
    {
      "cell_type": "code",
      "metadata": {
        "id": "D661o0cX97yV"
      },
      "source": [
        "path_of_class1=\"/content/mydrive/final_weather_train_data/1\"\n",
        "for r, d, f in os.walk(path_of_class1):\n",
        "    for file in f:\n",
        "        image_paths.append(os.path.join(r, file))\n",
        "        labels.append(1)"
      ],
      "execution_count": null,
      "outputs": []
    },
    {
      "cell_type": "code",
      "metadata": {
        "id": "DOZZLsQo-Why",
        "colab": {
          "base_uri": "https://localhost:8080/"
        },
        "outputId": "4bf5595e-83b6-46c3-89ef-bae909bc6286"
      },
      "source": [
        "print(len(image_paths))\n",
        "print(len(labels))"
      ],
      "execution_count": null,
      "outputs": [
        {
          "output_type": "stream",
          "text": [
            "20000\n",
            "20000\n"
          ],
          "name": "stdout"
        }
      ]
    },
    {
      "cell_type": "code",
      "metadata": {
        "colab": {
          "base_uri": "https://localhost:8080/"
        },
        "id": "uHld_VGivxZU",
        "outputId": "4826606e-b4c4-4de5-cabf-261f56eef826"
      },
      "source": [
        "f3=os.listdir(\"/content/mydrive/new_weather_train_data/1/\")\n",
        "print(len(f3))"
      ],
      "execution_count": null,
      "outputs": [
        {
          "output_type": "stream",
          "text": [
            "500\n"
          ],
          "name": "stdout"
        }
      ]
    },
    {
      "cell_type": "markdown",
      "metadata": {
        "id": "uCBaSCon_Eud"
      },
      "source": [
        "**INSERTING IMAGES AND LABELS OF CLASS 2**"
      ]
    },
    {
      "cell_type": "code",
      "metadata": {
        "id": "uN_7xOYv-Zev"
      },
      "source": [
        "path_of_class2=\"/content/mydrive/final_weather_train_data/2\"\n",
        "for r, d, f in os.walk(path_of_class2):\n",
        "    for file in f:\n",
        "        image_paths.append(os.path.join(r, file))\n",
        "        labels.append(2)"
      ],
      "execution_count": null,
      "outputs": []
    },
    {
      "cell_type": "code",
      "metadata": {
        "id": "KkSY831J_hpE",
        "colab": {
          "base_uri": "https://localhost:8080/"
        },
        "outputId": "d4ea5d46-1b46-4d94-e53b-f0e00b2d8eca"
      },
      "source": [
        "print(len(image_paths))\n",
        "print(len(labels))"
      ],
      "execution_count": null,
      "outputs": [
        {
          "output_type": "stream",
          "text": [
            "21450\n",
            "21450\n"
          ],
          "name": "stdout"
        }
      ]
    },
    {
      "cell_type": "markdown",
      "metadata": {
        "id": "dMjpZ2fw_G4N"
      },
      "source": [
        "**INSERTING IMAGES AND LABELS OF CLASS 3**"
      ]
    },
    {
      "cell_type": "code",
      "metadata": {
        "id": "0o7x4A_X_mKL"
      },
      "source": [
        "path_of_class3=\"/content/mydrive/final_weather_train_data/3\"\n",
        "for r, d, f in os.walk(path_of_class3):\n",
        "    for file in f:\n",
        "        image_paths.append(os.path.join(r, file))\n",
        "        labels.append(3)"
      ],
      "execution_count": null,
      "outputs": []
    },
    {
      "cell_type": "code",
      "metadata": {
        "id": "QMNWwbcA_IPS",
        "colab": {
          "base_uri": "https://localhost:8080/"
        },
        "outputId": "32b5c48f-396b-4f73-fb4a-85bc40c28b0b"
      },
      "source": [
        "print(len(image_paths))\n",
        "print(len(labels))"
      ],
      "execution_count": null,
      "outputs": [
        {
          "output_type": "stream",
          "text": [
            "22700\n",
            "22700\n"
          ],
          "name": "stdout"
        }
      ]
    },
    {
      "cell_type": "markdown",
      "metadata": {
        "id": "1Hhs0lHW_I3o"
      },
      "source": [
        "**INSERTING IMAGES AND LABELS OF CLASS 4**"
      ]
    },
    {
      "cell_type": "code",
      "metadata": {
        "id": "nq59ZrAk_KLp"
      },
      "source": [
        "path_of_class4=\"/content/mydrive/final_weather_train_data/4\"\n",
        "for r, d, f in os.walk(path_of_class4):\n",
        "    for file in f:\n",
        "        image_paths.append(os.path.join(r, file))\n",
        "        labels.append(4)"
      ],
      "execution_count": null,
      "outputs": []
    },
    {
      "cell_type": "code",
      "metadata": {
        "id": "46USa_ER_yAc",
        "colab": {
          "base_uri": "https://localhost:8080/"
        },
        "outputId": "e8e54f30-985c-4698-bd57-57751896261d"
      },
      "source": [
        "print(len(image_paths))\n",
        "print(len(labels))"
      ],
      "execution_count": null,
      "outputs": [
        {
          "output_type": "stream",
          "text": [
            "23321\n",
            "23321\n"
          ],
          "name": "stdout"
        }
      ]
    },
    {
      "cell_type": "code",
      "metadata": {
        "id": "SxXHbdnl_7Di",
        "colab": {
          "base_uri": "https://localhost:8080/"
        },
        "outputId": "d550c018-5825-432e-c1da-58a1d38fe6ba"
      },
      "source": [
        "print(image_paths[0],end=\"\\t\")\n",
        "print(labels[0])\n",
        "print(image_paths[2499],end=\"\\t\")\n",
        "print(labels[2499])"
      ],
      "execution_count": null,
      "outputs": [
        {
          "output_type": "stream",
          "text": [
            "/content/mydrive/final_weather_train_data/0/2873023379.jpg\t0\n",
            "/content/mydrive/final_weather_train_data/0/2533844289.jpg\t0\n"
          ],
          "name": "stdout"
        }
      ]
    },
    {
      "cell_type": "markdown",
      "metadata": {
        "id": "eJHq9mYKA2_9"
      },
      "source": [
        "**Now, we have paths of all the images in image_paths[] and all their corresponding lables in lables[]**"
      ]
    },
    {
      "cell_type": "markdown",
      "metadata": {
        "id": "4G8mxBQHTuSd"
      },
      "source": [
        "Converting images into Grayscale images"
      ]
    },
    {
      "cell_type": "code",
      "metadata": {
        "id": "QidQ1r-cAuUt"
      },
      "source": [
        "x_data_gray=[]\n",
        "for path in image_paths:\n",
        "    img = cv2.imread(path)\n",
        "    gray_image= cv2.cvtColor(img, cv2.COLOR_BGR2GRAY)\n",
        "    gray_image = cv2.resize(gray_image, (250,188))\n",
        "    gray_image = gray_image.astype('float32')\n",
        "    gray_image=gray_image/255\n",
        "    x_data_gray.append(gray_image)\n"
      ],
      "execution_count": null,
      "outputs": []
    },
    {
      "cell_type": "markdown",
      "metadata": {
        "id": "Vw2SVBwfTUZQ"
      },
      "source": [
        "For Pretrained Model , I am not converting RGB images into GrayScale images"
      ]
    },
    {
      "cell_type": "code",
      "metadata": {
        "id": "JaDJyhFhP0O8"
      },
      "source": [
        "#For Pretrained model\n",
        "x_data_gray=[]\n",
        "for path in image_paths:\n",
        "    img = cv2.imread(path)\n",
        "    # img=img/255\n",
        "    # print(img)\n",
        "    img = cv2.resize(img,(32,32))\n",
        "    img =img.astype('float32')\n",
        "    img=img/255 #Normalising the data    \n",
        "    x_data_gray.append(img)\n"
      ],
      "execution_count": null,
      "outputs": []
    },
    {
      "cell_type": "code",
      "metadata": {
        "colab": {
          "base_uri": "https://localhost:8080/"
        },
        "id": "GZdXGzRTqmi4",
        "outputId": "22fbe451-e103-4c9c-a304-cc3e1109bab7"
      },
      "source": [
        "#for pretrained model\n",
        "print(len(x_data_gray))\n",
        "x_data=np.array(x_data_gray)\n",
        "y_data=np.array(labels)\n",
        "print(x_data.shape)\n",
        "print(y_data.shape)"
      ],
      "execution_count": null,
      "outputs": [
        {
          "output_type": "stream",
          "text": [
            "23321\n",
            "(23321, 32, 32, 3)\n",
            "(23321,)\n"
          ],
          "name": "stdout"
        }
      ]
    },
    {
      "cell_type": "code",
      "metadata": {
        "id": "8ciCPYAbRcMm"
      },
      "source": [
        "# image size is 32*32\n",
        "x_data=x_data.reshape(len(x_data),32,32,1)\n",
        "print(x_data.shape)"
      ],
      "execution_count": null,
      "outputs": []
    },
    {
      "cell_type": "code",
      "metadata": {
        "id": "Idk5rCdVE2fU"
      },
      "source": [
        ""
      ],
      "execution_count": null,
      "outputs": []
    },
    {
      "cell_type": "markdown",
      "metadata": {
        "id": "sizMowkcE-ss"
      },
      "source": [
        "**Doing one hot encoding , no of columns will be equal to no_of_categories.**<br>\n",
        "Only one value of a row will be 1(deontes that this image belongs to this category) and rest all of them will be 0"
      ]
    },
    {
      "cell_type": "code",
      "metadata": {
        "id": "gmEzr4m_FF-J",
        "colab": {
          "base_uri": "https://localhost:8080/"
        },
        "outputId": "398b3aab-86d2-4688-c23b-dc4f6ac8250c"
      },
      "source": [
        "y_data=y_data.reshape(-1,1)\n",
        "print(y_data.shape)\n",
        "y_data= to_categorical(y_data)\n",
        "y_data.shape"
      ],
      "execution_count": null,
      "outputs": [
        {
          "output_type": "stream",
          "text": [
            "(23321, 1)\n"
          ],
          "name": "stdout"
        },
        {
          "output_type": "execute_result",
          "data": {
            "text/plain": [
              "(23321, 5)"
            ]
          },
          "metadata": {
            "tags": []
          },
          "execution_count": 300
        }
      ]
    },
    {
      "cell_type": "code",
      "metadata": {
        "id": "l3eJAvL7FeMa"
      },
      "source": [
        ""
      ],
      "execution_count": null,
      "outputs": []
    },
    {
      "cell_type": "markdown",
      "metadata": {
        "id": "3zoxGre6FlZD"
      },
      "source": [
        "**Splitting data into train and test**"
      ]
    },
    {
      "cell_type": "code",
      "metadata": {
        "id": "nS6o7ZdmFmNP"
      },
      "source": [
        "x_train, x_test, y_train, y_test = train_test_split(x_data,y_data, test_size=0.2, random_state=42, stratify = y_data)"
      ],
      "execution_count": null,
      "outputs": []
    },
    {
      "cell_type": "code",
      "metadata": {
        "id": "O3Cnp6WOFr7v",
        "colab": {
          "base_uri": "https://localhost:8080/"
        },
        "outputId": "1df294ff-032f-4d99-aa98-761307a558f7"
      },
      "source": [
        "print(\"x_train shape : \",x_train.shape)\n",
        "print(\"x_test shape  : \",x_test.shape)\n",
        "print(\"y_train shape : \",y_train.shape)\n",
        "print(\"y_test shape  : \",y_test.shape)"
      ],
      "execution_count": null,
      "outputs": [
        {
          "output_type": "stream",
          "text": [
            "x_train shape :  (18656, 32, 32, 3)\n",
            "x_test shape  :  (4665, 32, 32, 3)\n",
            "y_train shape :  (18656, 5)\n",
            "y_test shape  :  (4665, 5)\n"
          ],
          "name": "stdout"
        }
      ]
    },
    {
      "cell_type": "markdown",
      "metadata": {
        "id": "_oqytNesyG8n"
      },
      "source": [
        "**Using Pretrained model : VGG16**"
      ]
    },
    {
      "cell_type": "code",
      "metadata": {
        "id": "bnkLr0wUyGH2"
      },
      "source": [
        "from keras.applications.vgg16 import VGG16"
      ],
      "execution_count": null,
      "outputs": []
    },
    {
      "cell_type": "code",
      "metadata": {
        "id": "RQtR6w4xyGFC"
      },
      "source": [
        "\n",
        "from tensorflow.keras.applications.vgg16 import VGG16\n",
        "\n",
        "base_model = VGG16(input_shape = (32, 32, 3), # Shape of our images\n",
        "include_top = False, # Leave out the last fully connected layer\n",
        "weights = 'imagenet')"
      ],
      "execution_count": null,
      "outputs": []
    },
    {
      "cell_type": "code",
      "metadata": {
        "id": "xzp48atNy7zc"
      },
      "source": [
        "for layer in base_model.layers:\n",
        "    layer.trainable = False"
      ],
      "execution_count": null,
      "outputs": []
    },
    {
      "cell_type": "code",
      "metadata": {
        "id": "ZcWyGkpBy7v8"
      },
      "source": [
        "x = Flatten()(base_model.output)\n",
        "x = Dense(512, activation='relu')(x)\n",
        "x = Dropout(0.5)(x)\n",
        "x = Dense(5, activation='softmax')(x)\n",
        "model = Model(base_model.input, x)"
      ],
      "execution_count": null,
      "outputs": []
    },
    {
      "cell_type": "code",
      "metadata": {
        "colab": {
          "base_uri": "https://localhost:8080/"
        },
        "id": "Us39A0yY1NcA",
        "outputId": "b89cb448-8951-47c0-fcee-0c5672abb565"
      },
      "source": [
        "model.compile(optimizer='adam', loss='categorical_crossentropy', metrics=['accuracy'])\n",
        "history=model.fit(x_train, y_train,epochs=40, verbose=1)"
      ],
      "execution_count": null,
      "outputs": [
        {
          "output_type": "stream",
          "text": [
            "Epoch 1/40\n",
            "  1/583 [..............................] - ETA: 5s - loss: 2.0076 - accuracy: 0.0938WARNING:tensorflow:Callbacks method `on_train_batch_end` is slow compared to the batch time (batch time: 0.0050s vs `on_train_batch_end` time: 0.0100s). Check your callbacks.\n",
            "583/583 [==============================] - 5s 8ms/step - loss: 0.8529 - accuracy: 0.6657\n",
            "Epoch 2/40\n",
            "583/583 [==============================] - 5s 8ms/step - loss: 0.7712 - accuracy: 0.6978\n",
            "Epoch 3/40\n",
            "583/583 [==============================] - 5s 8ms/step - loss: 0.7456 - accuracy: 0.7074\n",
            "Epoch 4/40\n",
            "583/583 [==============================] - 5s 8ms/step - loss: 0.7330 - accuracy: 0.7125\n",
            "Epoch 5/40\n",
            "583/583 [==============================] - 5s 8ms/step - loss: 0.7234 - accuracy: 0.7155\n",
            "Epoch 6/40\n",
            "583/583 [==============================] - 5s 8ms/step - loss: 0.7097 - accuracy: 0.7210\n",
            "Epoch 7/40\n",
            "583/583 [==============================] - 5s 8ms/step - loss: 0.6981 - accuracy: 0.7272\n",
            "Epoch 8/40\n",
            "583/583 [==============================] - 5s 8ms/step - loss: 0.6872 - accuracy: 0.7277\n",
            "Epoch 9/40\n",
            "583/583 [==============================] - 5s 8ms/step - loss: 0.6796 - accuracy: 0.7307\n",
            "Epoch 10/40\n",
            "583/583 [==============================] - 5s 8ms/step - loss: 0.6700 - accuracy: 0.7367\n",
            "Epoch 11/40\n",
            "583/583 [==============================] - 5s 8ms/step - loss: 0.6633 - accuracy: 0.7384\n",
            "Epoch 12/40\n",
            "583/583 [==============================] - 5s 8ms/step - loss: 0.6553 - accuracy: 0.7404\n",
            "Epoch 13/40\n",
            "583/583 [==============================] - 5s 8ms/step - loss: 0.6467 - accuracy: 0.7458\n",
            "Epoch 14/40\n",
            "583/583 [==============================] - 5s 8ms/step - loss: 0.6404 - accuracy: 0.7452\n",
            "Epoch 15/40\n",
            "583/583 [==============================] - 5s 8ms/step - loss: 0.6308 - accuracy: 0.7524\n",
            "Epoch 16/40\n",
            "583/583 [==============================] - 5s 8ms/step - loss: 0.6242 - accuracy: 0.7519\n",
            "Epoch 17/40\n",
            "583/583 [==============================] - 5s 8ms/step - loss: 0.6175 - accuracy: 0.7535\n",
            "Epoch 18/40\n",
            "583/583 [==============================] - 5s 8ms/step - loss: 0.6054 - accuracy: 0.7563\n",
            "Epoch 19/40\n",
            "583/583 [==============================] - 5s 8ms/step - loss: 0.6024 - accuracy: 0.7631\n",
            "Epoch 20/40\n",
            "583/583 [==============================] - 5s 8ms/step - loss: 0.5920 - accuracy: 0.7641\n",
            "Epoch 21/40\n",
            "583/583 [==============================] - 5s 8ms/step - loss: 0.5854 - accuracy: 0.7631\n",
            "Epoch 22/40\n",
            "583/583 [==============================] - 5s 8ms/step - loss: 0.5773 - accuracy: 0.7713\n",
            "Epoch 23/40\n",
            "583/583 [==============================] - 5s 8ms/step - loss: 0.5705 - accuracy: 0.7743\n",
            "Epoch 24/40\n",
            "583/583 [==============================] - 5s 8ms/step - loss: 0.5632 - accuracy: 0.7740\n",
            "Epoch 25/40\n",
            "583/583 [==============================] - 5s 8ms/step - loss: 0.5531 - accuracy: 0.7763\n",
            "Epoch 26/40\n",
            "583/583 [==============================] - 5s 8ms/step - loss: 0.5478 - accuracy: 0.7818\n",
            "Epoch 27/40\n",
            "583/583 [==============================] - 5s 8ms/step - loss: 0.5417 - accuracy: 0.7858\n",
            "Epoch 28/40\n",
            "583/583 [==============================] - 5s 8ms/step - loss: 0.5348 - accuracy: 0.7859\n",
            "Epoch 29/40\n",
            "583/583 [==============================] - 5s 8ms/step - loss: 0.5275 - accuracy: 0.7881\n",
            "Epoch 30/40\n",
            "583/583 [==============================] - 5s 8ms/step - loss: 0.5210 - accuracy: 0.7928\n",
            "Epoch 31/40\n",
            "583/583 [==============================] - 5s 8ms/step - loss: 0.5107 - accuracy: 0.7967\n",
            "Epoch 32/40\n",
            "583/583 [==============================] - 5s 8ms/step - loss: 0.5061 - accuracy: 0.7970\n",
            "Epoch 33/40\n",
            "583/583 [==============================] - 5s 8ms/step - loss: 0.5010 - accuracy: 0.8002\n",
            "Epoch 34/40\n",
            "583/583 [==============================] - 5s 8ms/step - loss: 0.4946 - accuracy: 0.8016\n",
            "Epoch 35/40\n",
            "583/583 [==============================] - 5s 8ms/step - loss: 0.4872 - accuracy: 0.8019\n",
            "Epoch 36/40\n",
            "583/583 [==============================] - 5s 8ms/step - loss: 0.4745 - accuracy: 0.8085\n",
            "Epoch 37/40\n",
            "583/583 [==============================] - 5s 8ms/step - loss: 0.4734 - accuracy: 0.8113\n",
            "Epoch 38/40\n",
            "583/583 [==============================] - 5s 8ms/step - loss: 0.4678 - accuracy: 0.8116\n",
            "Epoch 39/40\n",
            "583/583 [==============================] - 5s 8ms/step - loss: 0.4664 - accuracy: 0.8128\n",
            "Epoch 40/40\n",
            "583/583 [==============================] - 5s 8ms/step - loss: 0.4535 - accuracy: 0.8196\n"
          ],
          "name": "stdout"
        }
      ]
    },
    {
      "cell_type": "code",
      "metadata": {
        "id": "amNwRMLrUlgx"
      },
      "source": [
        ""
      ],
      "execution_count": null,
      "outputs": []
    },
    {
      "cell_type": "markdown",
      "metadata": {
        "id": "LUiKRwlSUnWo"
      },
      "source": [
        "**Plotting Graph**"
      ]
    },
    {
      "cell_type": "code",
      "metadata": {
        "colab": {
          "base_uri": "https://localhost:8080/",
          "height": 295
        },
        "id": "VjS_YThV8T6F",
        "outputId": "72928f32-e5c3-453c-adcf-511243ad9ae7"
      },
      "source": [
        "from matplotlib import pyplot as plt\n",
        "import keras\n",
        "plt.plot(history.history['accuracy'])\n",
        "plt.plot(history.history['val_accuracy'])\n",
        "plt.title('model accuracy')\n",
        "plt.ylabel('accuracy')\n",
        "plt.xlabel('epoch')\n",
        "plt.legend(['train', 'val'], loc='upper left')\n",
        "plt.show()\n"
      ],
      "execution_count": null,
      "outputs": [
        {
          "output_type": "display_data",
          "data": {
            "image/png": "[encoded data removed]",
            "text/plain": [
              "<Figure size 432x288 with 1 Axes>"
            ]
          },
          "metadata": {
            "tags": [],
            "needs_background": "light"
          }
        }
      ]
    },
    {
      "cell_type": "code",
      "metadata": {
        "colab": {
          "base_uri": "https://localhost:8080/",
          "height": 295
        },
        "id": "cf3JVXHO1NYJ",
        "outputId": "083b30b0-c92d-4e0e-e0fd-86c21e2a16c5"
      },
      "source": [
        "plt.plot(history.history['loss'])\n",
        "plt.plot(history.history['val_loss'])\n",
        "plt.title('model loss')\n",
        "plt.ylabel('loss')\n",
        "plt.xlabel('epoch')\n",
        "plt.legend(['train', 'val'], loc='upper left')\n",
        "plt.show()\n"
      ],
      "execution_count": null,
      "outputs": [
        {
          "output_type": "display_data",
          "data": {
            "image/png": "[encoded data removed]",
            "text/plain": [
              "<Figure size 432x288 with 1 Axes>"
            ]
          },
          "metadata": {
            "tags": [],
            "needs_background": "light"
          }
        }
      ]
    },
    {
      "cell_type": "code",
      "metadata": {
        "id": "C-CD4CVay7tM"
      },
      "source": [
        "y_pred1=model.predict(x_test)"
      ],
      "execution_count": null,
      "outputs": []
    },
    {
      "cell_type": "code",
      "metadata": {
        "id": "IJoCVKlpAs18"
      },
      "source": [
        "y_pred = np.argmax(y_pred1,axis=1)"
      ],
      "execution_count": null,
      "outputs": []
    },
    {
      "cell_type": "code",
      "metadata": {
        "id": "oEaAylhZ5j6U"
      },
      "source": [
        "y_true = np.argmax(y_test,axis=1)\n"
      ],
      "execution_count": null,
      "outputs": []
    },
    {
      "cell_type": "markdown",
      "metadata": {
        "id": "azCje999Uucg"
      },
      "source": [
        "**Evaluation Metrics**<br><br>\n",
        "**Precision** : The precision is the ratio tp / (tp + fp) where tp is the number of true positives and fp the number of false positives. The precision is intuitively the ability of the classifier not to label as positive a sample that is negative.\n",
        "<br>\n",
        "<br>\n",
        "**Recall** : The recall is the ratio tp / (tp + fn) where tp is the number of true positives and fn the number of false negatives. The recall is intuitively the ability of the classifier to find all the positive samples.\n",
        "<br> \n",
        "<br>\n",
        "**F1 Score**: The F1 score can be interpreted as a weighted average of the precision and recall, where an F1 score reaches its best value at 1 and worst score at 0. The relative contribution of precision and recall to the F1 score are equal. <br>\n",
        "The formula for the F1 score is:\n",
        "\n",
        "F1 = 2 * (precision * recall) / (precision + recall)\n",
        "<br>\n",
        "<br>\n",
        "**Accuracy** : Accuracy is the measurement used to determine which model is best at identifying relationships and patterns between variables in a dataset based on the input, or training, data."
      ]
    },
    {
      "cell_type": "code",
      "metadata": {
        "colab": {
          "base_uri": "https://localhost:8080/"
        },
        "id": "uKx6-tHN5kGw",
        "outputId": "14952384-03bf-43be-c2ec-3fbdfb65ec64"
      },
      "source": [
        "from sklearn.metrics import accuracy_score\n",
        "print(\"accuracy :\",accuracy_score(y_true, y_pred))\n",
        "\n",
        "from sklearn.metrics import f1_score\n",
        "print(\"f1-score : \",end=\"\")\n",
        "print(f1_score(y_true, y_pred, average='macro'))\n",
        "\n",
        "from sklearn.metrics import recall_score\n",
        "print(\"recall : \",recall_score(y_true, y_pred, average='macro'))\n",
        "\n",
        "from sklearn.metrics import precision_score\n",
        "print(\"precision : \",end=\"\")\n",
        "precision_score(y_true, y_pred, average='macro')"
      ],
      "execution_count": null,
      "outputs": [
        {
          "output_type": "stream",
          "text": [
            "accuracy : 0.7209003215434083\n",
            "f1-score : 0.5906818075641425\n",
            "recall :  0.5600052828424497\n",
            "precision : "
          ],
          "name": "stdout"
        },
        {
          "output_type": "execute_result",
          "data": {
            "text/plain": [
              "0.6525555196799391"
            ]
          },
          "metadata": {
            "tags": []
          },
          "execution_count": 426
        }
      ]
    },
    {
      "cell_type": "code",
      "metadata": {
        "id": "I0uBDwwOXlth"
      },
      "source": [
        ""
      ],
      "execution_count": null,
      "outputs": []
    },
    {
      "cell_type": "markdown",
      "metadata": {
        "id": "P_SBpfjZU0aK"
      },
      "source": [
        "**Confusion Matrix :** A confusion matrix is a table that is often used to describe the performance of a classification model (or \"classifier\") on a set of test data for which the true values are known. "
      ]
    },
    {
      "cell_type": "code",
      "metadata": {
        "colab": {
          "base_uri": "https://localhost:8080/"
        },
        "id": "eFTkYP5I8Tcl",
        "outputId": "68542fe0-ca72-430f-e786-a16899245c03"
      },
      "source": [
        "from sklearn.metrics import confusion_matrix\n",
        "print(\"confusion matrix : \")\n",
        "print()\n",
        "print(confusion_matrix(y_true, y_pred))\n",
        "print (\"\\nconfusion matrix in % \")\n",
        "print ()\n",
        "print(confusion_matrix(y_true, y_pred)/((len(y_true)/5)+1))\n"
      ],
      "execution_count": null,
      "outputs": [
        {
          "output_type": "stream",
          "text": [
            "confusion matrix : \n",
            "\n",
            "[[1628  289   60   10   13]\n",
            " [ 518 1443   29    9    2]\n",
            " [ 194   29   54    9    4]\n",
            " [ 104   32   24   87    3]\n",
            " [  42    6    0    1   75]]\n",
            "\n",
            "confusion matrix in % \n",
            "\n",
            "[[1.74304069e+00 3.09421842e-01 6.42398287e-02 1.07066381e-02\n",
            "  1.39186296e-02]\n",
            " [5.54603854e-01 1.54496788e+00 3.10492505e-02 9.63597430e-03\n",
            "  2.14132762e-03]\n",
            " [2.07708779e-01 3.10492505e-02 5.78158458e-02 9.63597430e-03\n",
            "  4.28265525e-03]\n",
            " [1.11349036e-01 3.42612420e-02 2.56959315e-02 9.31477516e-02\n",
            "  3.21199143e-03]\n",
            " [4.49678801e-02 6.42398287e-03 0.00000000e+00 1.07066381e-03\n",
            "  8.02997859e-02]]\n"
          ],
          "name": "stdout"
        }
      ]
    },
    {
      "cell_type": "markdown",
      "metadata": {
        "id": "P3lQdGwZA8y7"
      },
      "source": [
        "**Pretrained model : Inception**"
      ]
    },
    {
      "cell_type": "code",
      "metadata": {
        "id": "ePTVunRb5j1Z"
      },
      "source": [
        "from tensorflow.keras.applications import ResNet50\n",
        "base_model = ResNet50(input_shape=(32, 32,3), include_top=False, weights=\"imagenet\")"
      ],
      "execution_count": null,
      "outputs": []
    },
    {
      "cell_type": "code",
      "metadata": {
        "id": "y3x_dtQ-_76y"
      },
      "source": [
        "for layer in base_model.layers:\n",
        "    layer.trainable = False"
      ],
      "execution_count": null,
      "outputs": []
    },
    {
      "cell_type": "code",
      "metadata": {
        "id": "kT3Sojbf_74F"
      },
      "source": [
        "from tensorflow.keras.applications import ResNet50\n",
        "from tensorflow.python.keras.models import Sequential\n",
        "from tensorflow.python.keras.layers import Dense, Flatten, GlobalAveragePooling2D\n",
        "\n",
        "base_model = Sequential()\n",
        "base_model.add(ResNet50(include_top=False, weights='imagenet', pooling='max'))\n",
        "base_model.add(Dense(5, activation='softmax'))\n",
        "\n"
      ],
      "execution_count": null,
      "outputs": []
    },
    {
      "cell_type": "code",
      "metadata": {
        "id": "9UgeIqNr_71J"
      },
      "source": [
        "import tensorflow as tf\n",
        "base_model.compile(optimizer = tf.keras.optimizers.SGD(lr=0.0001), loss = 'categorical_crossentropy', metrics = ['acc'])"
      ],
      "execution_count": null,
      "outputs": []
    },
    {
      "cell_type": "code",
      "metadata": {
        "colab": {
          "base_uri": "https://localhost:8080/"
        },
        "id": "Gb4PIo5u_7xg",
        "outputId": "6ca30e18-cc48-4819-c6dc-e3aa96a7d9a7"
      },
      "source": [
        "# resnet_history = base_model.fit(train_generator, validation_data = validation_generator, steps_per_epoch = 100, epochs = 10)\n",
        "history=model.fit(x_train, y_train,epochs=40,validation_split=0.2, shuffle=True,verbose=1,steps_per_epoch = 50)"
      ],
      "execution_count": null,
      "outputs": [
        {
          "output_type": "stream",
          "text": [
            "Epoch 1/40\n",
            "50/50 [==============================] - 3s 60ms/step - loss: 0.0258 - accuracy: 0.9935 - val_loss: 0.0426 - val_accuracy: 0.9855\n",
            "Epoch 2/40\n",
            "50/50 [==============================] - 2s 48ms/step - loss: 0.0215 - accuracy: 0.9950 - val_loss: 0.0360 - val_accuracy: 0.9879\n",
            "Epoch 3/40\n",
            "50/50 [==============================] - 2s 47ms/step - loss: 0.0216 - accuracy: 0.9944 - val_loss: 0.0422 - val_accuracy: 0.9866\n",
            "Epoch 4/40\n",
            "50/50 [==============================] - 2s 48ms/step - loss: 0.0208 - accuracy: 0.9950 - val_loss: 0.0396 - val_accuracy: 0.9866\n",
            "Epoch 5/40\n",
            "50/50 [==============================] - 2s 48ms/step - loss: 0.0200 - accuracy: 0.9953 - val_loss: 0.0341 - val_accuracy: 0.9893\n",
            "Epoch 6/40\n",
            "50/50 [==============================] - 2s 48ms/step - loss: 0.0208 - accuracy: 0.9949 - val_loss: 0.0360 - val_accuracy: 0.9887\n",
            "Epoch 7/40\n",
            "50/50 [==============================] - 2s 48ms/step - loss: 0.0206 - accuracy: 0.9948 - val_loss: 0.0406 - val_accuracy: 0.9863\n",
            "Epoch 8/40\n",
            "50/50 [==============================] - 2s 48ms/step - loss: 0.0202 - accuracy: 0.9960 - val_loss: 0.0426 - val_accuracy: 0.9842\n",
            "Epoch 9/40\n",
            "50/50 [==============================] - 2s 48ms/step - loss: 0.0211 - accuracy: 0.9950 - val_loss: 0.0394 - val_accuracy: 0.9885\n",
            "Epoch 10/40\n",
            "50/50 [==============================] - 2s 48ms/step - loss: 0.0181 - accuracy: 0.9962 - val_loss: 0.0399 - val_accuracy: 0.9869\n",
            "Epoch 11/40\n",
            "50/50 [==============================] - 2s 48ms/step - loss: 0.0186 - accuracy: 0.9952 - val_loss: 0.0465 - val_accuracy: 0.9847\n",
            "Epoch 12/40\n",
            "50/50 [==============================] - 2s 48ms/step - loss: 0.0186 - accuracy: 0.9959 - val_loss: 0.0400 - val_accuracy: 0.9871\n",
            "Epoch 13/40\n",
            "50/50 [==============================] - 2s 48ms/step - loss: 0.0205 - accuracy: 0.9954 - val_loss: 0.0414 - val_accuracy: 0.9871\n",
            "Epoch 14/40\n",
            "50/50 [==============================] - 2s 48ms/step - loss: 0.0196 - accuracy: 0.9956 - val_loss: 0.0420 - val_accuracy: 0.9853\n",
            "Epoch 15/40\n",
            "50/50 [==============================] - 2s 48ms/step - loss: 0.0205 - accuracy: 0.9954 - val_loss: 0.0451 - val_accuracy: 0.9842\n",
            "Epoch 16/40\n",
            "50/50 [==============================] - 2s 49ms/step - loss: 0.0215 - accuracy: 0.9946 - val_loss: 0.0411 - val_accuracy: 0.9858\n",
            "Epoch 17/40\n",
            "50/50 [==============================] - 2s 48ms/step - loss: 0.0192 - accuracy: 0.9960 - val_loss: 0.0397 - val_accuracy: 0.9887\n",
            "Epoch 18/40\n",
            "50/50 [==============================] - 2s 48ms/step - loss: 0.0192 - accuracy: 0.9959 - val_loss: 0.0416 - val_accuracy: 0.9879\n",
            "Epoch 19/40\n",
            "50/50 [==============================] - 2s 48ms/step - loss: 0.0204 - accuracy: 0.9952 - val_loss: 0.0390 - val_accuracy: 0.9866\n",
            "Epoch 20/40\n",
            "50/50 [==============================] - 2s 48ms/step - loss: 0.0201 - accuracy: 0.9944 - val_loss: 0.0454 - val_accuracy: 0.9842\n",
            "Epoch 21/40\n",
            "50/50 [==============================] - 2s 48ms/step - loss: 0.0186 - accuracy: 0.9950 - val_loss: 0.0452 - val_accuracy: 0.9842\n",
            "Epoch 22/40\n",
            "50/50 [==============================] - 2s 48ms/step - loss: 0.0205 - accuracy: 0.9948 - val_loss: 0.0478 - val_accuracy: 0.9858\n",
            "Epoch 23/40\n",
            "50/50 [==============================] - 2s 49ms/step - loss: 0.0184 - accuracy: 0.9958 - val_loss: 0.0493 - val_accuracy: 0.9839\n",
            "Epoch 24/40\n",
            "50/50 [==============================] - 2s 49ms/step - loss: 0.0184 - accuracy: 0.9958 - val_loss: 0.0472 - val_accuracy: 0.9855\n",
            "Epoch 25/40\n",
            "50/50 [==============================] - 2s 49ms/step - loss: 0.0180 - accuracy: 0.9960 - val_loss: 0.0498 - val_accuracy: 0.9842\n",
            "Epoch 26/40\n",
            "50/50 [==============================] - 2s 49ms/step - loss: 0.0202 - accuracy: 0.9951 - val_loss: 0.0475 - val_accuracy: 0.9863\n",
            "Epoch 27/40\n",
            "50/50 [==============================] - 2s 48ms/step - loss: 0.0211 - accuracy: 0.9941 - val_loss: 0.0547 - val_accuracy: 0.9810\n",
            "Epoch 28/40\n",
            "50/50 [==============================] - 2s 48ms/step - loss: 0.0185 - accuracy: 0.9962 - val_loss: 0.0467 - val_accuracy: 0.9847\n",
            "Epoch 29/40\n",
            "50/50 [==============================] - 2s 49ms/step - loss: 0.0183 - accuracy: 0.9958 - val_loss: 0.0490 - val_accuracy: 0.9839\n",
            "Epoch 30/40\n",
            "50/50 [==============================] - 2s 49ms/step - loss: 0.0196 - accuracy: 0.9956 - val_loss: 0.0509 - val_accuracy: 0.9837\n",
            "Epoch 31/40\n",
            "50/50 [==============================] - 2s 49ms/step - loss: 0.0205 - accuracy: 0.9945 - val_loss: 0.0494 - val_accuracy: 0.9847\n",
            "Epoch 32/40\n",
            "50/50 [==============================] - 2s 49ms/step - loss: 0.0199 - accuracy: 0.9951 - val_loss: 0.0531 - val_accuracy: 0.9829\n",
            "Epoch 33/40\n",
            "50/50 [==============================] - 2s 49ms/step - loss: 0.0175 - accuracy: 0.9960 - val_loss: 0.0488 - val_accuracy: 0.9826\n",
            "Epoch 34/40\n",
            "50/50 [==============================] - 2s 49ms/step - loss: 0.0163 - accuracy: 0.9966 - val_loss: 0.0555 - val_accuracy: 0.9818\n",
            "Epoch 35/40\n",
            "50/50 [==============================] - 2s 49ms/step - loss: 0.0198 - accuracy: 0.9948 - val_loss: 0.0603 - val_accuracy: 0.9788\n",
            "Epoch 36/40\n",
            "50/50 [==============================] - 2s 49ms/step - loss: 0.0205 - accuracy: 0.9946 - val_loss: 0.0633 - val_accuracy: 0.9794\n",
            "Epoch 37/40\n",
            "50/50 [==============================] - 2s 49ms/step - loss: 0.0196 - accuracy: 0.9943 - val_loss: 0.0524 - val_accuracy: 0.9829\n",
            "Epoch 38/40\n",
            "50/50 [==============================] - 2s 49ms/step - loss: 0.0262 - accuracy: 0.9928 - val_loss: 0.0610 - val_accuracy: 0.9786\n",
            "Epoch 39/40\n",
            "50/50 [==============================] - 2s 50ms/step - loss: 0.0209 - accuracy: 0.9942 - val_loss: 0.0573 - val_accuracy: 0.9815\n",
            "Epoch 40/40\n",
            "50/50 [==============================] - 3s 50ms/step - loss: 0.0182 - accuracy: 0.9960 - val_loss: 0.0567 - val_accuracy: 0.9788\n"
          ],
          "name": "stdout"
        }
      ]
    },
    {
      "cell_type": "code",
      "metadata": {
        "id": "Bhl4vGqdX4rc"
      },
      "source": [
        ""
      ],
      "execution_count": null,
      "outputs": []
    },
    {
      "cell_type": "markdown",
      "metadata": {
        "id": "L_S9-XHbX6FZ"
      },
      "source": [
        "**Plotting Graph**"
      ]
    },
    {
      "cell_type": "code",
      "metadata": {
        "colab": {
          "base_uri": "https://localhost:8080/",
          "height": 295
        },
        "id": "JnO00vwr_7t4",
        "outputId": "7b9151f1-c6fe-4fab-e26e-9e87781e3d7c"
      },
      "source": [
        "from matplotlib import pyplot as plt\n",
        "import keras\n",
        "plt.plot(history.history['accuracy'])\n",
        "plt.plot(history.history['val_accuracy'])\n",
        "plt.title('model accuracy')\n",
        "plt.ylabel('accuracy')\n",
        "plt.xlabel('epoch')\n",
        "plt.legend(['train', 'val'], loc='upper left')\n",
        "plt.show()"
      ],
      "execution_count": null,
      "outputs": [
        {
          "output_type": "display_data",
          "data": {
            "image/png": "[encoded data removed]",
            "text/plain": [
              "<Figure size 432x288 with 1 Axes>"
            ]
          },
          "metadata": {
            "tags": [],
            "needs_background": "light"
          }
        }
      ]
    },
    {
      "cell_type": "code",
      "metadata": {
        "colab": {
          "base_uri": "https://localhost:8080/",
          "height": 295
        },
        "id": "W5fnkeiFC9u7",
        "outputId": "7c84ba19-9827-4e38-dd14-f3648cb108e9"
      },
      "source": [
        "plt.plot(history.history['loss'])\n",
        "plt.plot(history.history['val_loss'])\n",
        "plt.title('model loss')\n",
        "plt.ylabel('loss')\n",
        "plt.xlabel('epoch')\n",
        "plt.legend(['train', 'val'], loc='upper left')\n",
        "plt.show()"
      ],
      "execution_count": null,
      "outputs": [
        {
          "output_type": "display_data",
          "data": {
            "image/png": "[encoded data removed]",
            "text/plain": [
              "<Figure size 432x288 with 1 Axes>"
            ]
          },
          "metadata": {
            "tags": [],
            "needs_background": "light"
          }
        }
      ]
    },
    {
      "cell_type": "code",
      "metadata": {
        "id": "nprclKfOC-FD"
      },
      "source": [
        "y_pred1=model.predict(x_test)\n",
        "y_pred = np.argmax(y_pred1,axis=1)\n"
      ],
      "execution_count": null,
      "outputs": []
    },
    {
      "cell_type": "code",
      "metadata": {
        "id": "OETu2-mTC9sF"
      },
      "source": [
        "y_true = np.argmax(y_test,axis=1)"
      ],
      "execution_count": null,
      "outputs": []
    },
    {
      "cell_type": "markdown",
      "metadata": {
        "id": "avxzfdkEX_9d"
      },
      "source": [
        "**Evaluation Metrics**<br><br>\n",
        "**Precision** : The precision is the ratio tp / (tp + fp) where tp is the number of true positives and fp the number of false positives. The precision is intuitively the ability of the classifier not to label as positive a sample that is negative.\n",
        "<br>\n",
        "<br>\n",
        "**Recall** : The recall is the ratio tp / (tp + fn) where tp is the number of true positives and fn the number of false negatives. The recall is intuitively the ability of the classifier to find all the positive samples.\n",
        "<br> \n",
        "<br>\n",
        "**F1 Score**: The F1 score can be interpreted as a weighted average of the precision and recall, where an F1 score reaches its best value at 1 and worst score at 0. The relative contribution of precision and recall to the F1 score are equal. <br>\n",
        "The formula for the F1 score is:\n",
        "\n",
        "F1 = 2 * (precision * recall) / (precision + recall)\n",
        "<br>\n",
        "<br>\n",
        "**Accuracy** : Accuracy is the measurement used to determine which model is best at identifying relationships and patterns between variables in a dataset based on the input, or training, data.\n"
      ]
    },
    {
      "cell_type": "code",
      "metadata": {
        "colab": {
          "base_uri": "https://localhost:8080/"
        },
        "id": "IYsrtp76C9oV",
        "outputId": "74f9d207-e5db-4330-875c-bbb629baad34"
      },
      "source": [
        "from sklearn.metrics import accuracy_score\n",
        "print(\"accuracy :\",accuracy_score(y_true, y_pred))\n",
        "\n",
        "from sklearn.metrics import f1_score\n",
        "print(\"f1-score : \",end=\"\")\n",
        "print(f1_score(y_true, y_pred, average='macro'))\n",
        "\n",
        "from sklearn.metrics import recall_score\n",
        "print(\"recall : \",recall_score(y_true, y_pred, average='macro'))\n",
        "\n",
        "from sklearn.metrics import precision_score\n",
        "print(\"precision : \",end=\"\")\n",
        "precision_score(y_true, y_pred, average='macro')"
      ],
      "execution_count": null,
      "outputs": [
        {
          "output_type": "stream",
          "text": [
            "accuracy : 0.7095391211146839\n",
            "f1-score : 0.6016689415058796\n",
            "recall :  0.5798421240992407\n",
            "precision : "
          ],
          "name": "stdout"
        },
        {
          "output_type": "execute_result",
          "data": {
            "text/plain": [
              "0.6311309498957849"
            ]
          },
          "metadata": {
            "tags": []
          },
          "execution_count": 336
        }
      ]
    },
    {
      "cell_type": "markdown",
      "metadata": {
        "id": "i_fLLKNIYGbf"
      },
      "source": [
        "**Confusion Matrix :** A confusion matrix is a table that is often used to describe the performance of a classification model (or \"classifier\") on a set of test data for which the true values are known. "
      ]
    },
    {
      "cell_type": "code",
      "metadata": {
        "colab": {
          "base_uri": "https://localhost:8080/"
        },
        "id": "DwaanXCzC9lI",
        "outputId": "d24ba34a-7213-420e-a2cf-9f34de7e9956"
      },
      "source": [
        "from sklearn.metrics import confusion_matrix\n",
        "print(\"confusion matrix : \")\n",
        "print()\n",
        "print(confusion_matrix(y_true, y_pred))\n",
        "print (\"\\nconfusion matrix in % \")\n",
        "print ()\n",
        "print(confusion_matrix(y_true, y_pred)/((len(y_true)/5)+1))\n"
      ],
      "execution_count": null,
      "outputs": [
        {
          "output_type": "stream",
          "text": [
            "confusion matrix : \n",
            "\n",
            "[[57 18  9  8  8]\n",
            " [25 54  5  4  0]\n",
            " [38  7 41 14  8]\n",
            " [14  7  9 74  7]\n",
            " [11  1  3  3 75]]\n",
            "\n",
            "confusion matrix in % \n",
            "\n",
            "[[0.56435644 0.17821782 0.08910891 0.07920792 0.07920792]\n",
            " [0.24752475 0.53465347 0.04950495 0.03960396 0.        ]\n",
            " [0.37623762 0.06930693 0.40594059 0.13861386 0.07920792]\n",
            " [0.13861386 0.06930693 0.08910891 0.73267327 0.06930693]\n",
            " [0.10891089 0.00990099 0.02970297 0.02970297 0.74257426]]\n"
          ],
          "name": "stdout"
        }
      ]
    },
    {
      "cell_type": "code",
      "metadata": {
        "id": "-hJKkMNwC9hn"
      },
      "source": [
        ""
      ],
      "execution_count": null,
      "outputs": []
    },
    {
      "cell_type": "code",
      "metadata": {
        "id": "teOjPAlx5jyC"
      },
      "source": [
        ""
      ],
      "execution_count": null,
      "outputs": []
    },
    {
      "cell_type": "code",
      "metadata": {
        "id": "i_ussjhxyGCK"
      },
      "source": [
        ""
      ],
      "execution_count": null,
      "outputs": []
    },
    {
      "cell_type": "markdown",
      "metadata": {
        "id": "rtOLLNdyDQ5Z"
      },
      "source": [
        "**Pretrained Model : EfficientNet**"
      ]
    },
    {
      "cell_type": "code",
      "metadata": {
        "colab": {
          "base_uri": "https://localhost:8080/"
        },
        "id": "MVZBvTaKDQE9",
        "outputId": "3308468e-8f3f-4dba-a4f7-f62e68ea7c58"
      },
      "source": [
        "!pip install -U efficientnet"
      ],
      "execution_count": null,
      "outputs": [
        {
          "output_type": "stream",
          "text": [
            "Collecting efficientnet\n",
            "  Downloading https://files.pythonhosted.org/packages/53/97/84f88e581d6ac86dcf1ab347c497c4c568c38784e3a2bd659b96912ab793/efficientnet-1.1.1-py3-none-any.whl\n",
            "Requirement already satisfied, skipping upgrade: scikit-image in /usr/local/lib/python3.6/dist-packages (from efficientnet) (0.16.2)\n",
            "Collecting keras-applications<=1.0.8,>=1.0.7\n",
            "\u001b[?25l  Downloading https://files.pythonhosted.org/packages/71/e3/19762fdfc62877ae9102edf6342d71b28fbfd9dea3d2f96a882ce099b03f/Keras_Applications-1.0.8-py3-none-any.whl (50kB)\n",
            "\u001b[K     |████████████████████████████████| 51kB 5.8MB/s \n",
            "\u001b[?25hRequirement already satisfied, skipping upgrade: PyWavelets>=0.4.0 in /usr/local/lib/python3.6/dist-packages (from scikit-image->efficientnet) (1.1.1)\n",
            "Requirement already satisfied, skipping upgrade: networkx>=2.0 in /usr/local/lib/python3.6/dist-packages (from scikit-image->efficientnet) (2.5)\n",
            "Requirement already satisfied, skipping upgrade: pillow>=4.3.0 in /usr/local/lib/python3.6/dist-packages (from scikit-image->efficientnet) (7.0.0)\n",
            "Requirement already satisfied, skipping upgrade: imageio>=2.3.0 in /usr/local/lib/python3.6/dist-packages (from scikit-image->efficientnet) (2.4.1)\n",
            "Requirement already satisfied, skipping upgrade: scipy>=0.19.0 in /usr/local/lib/python3.6/dist-packages (from scikit-image->efficientnet) (1.4.1)\n",
            "Requirement already satisfied, skipping upgrade: matplotlib!=3.0.0,>=2.0.0 in /usr/local/lib/python3.6/dist-packages (from scikit-image->efficientnet) (3.2.2)\n",
            "Requirement already satisfied, skipping upgrade: numpy>=1.9.1 in /usr/local/lib/python3.6/dist-packages (from keras-applications<=1.0.8,>=1.0.7->efficientnet) (1.18.5)\n",
            "Requirement already satisfied, skipping upgrade: h5py in /usr/local/lib/python3.6/dist-packages (from keras-applications<=1.0.8,>=1.0.7->efficientnet) (2.10.0)\n",
            "Requirement already satisfied, skipping upgrade: decorator>=4.3.0 in /usr/local/lib/python3.6/dist-packages (from networkx>=2.0->scikit-image->efficientnet) (4.4.2)\n",
            "Requirement already satisfied, skipping upgrade: pyparsing!=2.0.4,!=2.1.2,!=2.1.6,>=2.0.1 in /usr/local/lib/python3.6/dist-packages (from matplotlib!=3.0.0,>=2.0.0->scikit-image->efficientnet) (2.4.7)\n",
            "Requirement already satisfied, skipping upgrade: kiwisolver>=1.0.1 in /usr/local/lib/python3.6/dist-packages (from matplotlib!=3.0.0,>=2.0.0->scikit-image->efficientnet) (1.3.1)\n",
            "Requirement already satisfied, skipping upgrade: python-dateutil>=2.1 in /usr/local/lib/python3.6/dist-packages (from matplotlib!=3.0.0,>=2.0.0->scikit-image->efficientnet) (2.8.1)\n",
            "Requirement already satisfied, skipping upgrade: cycler>=0.10 in /usr/local/lib/python3.6/dist-packages (from matplotlib!=3.0.0,>=2.0.0->scikit-image->efficientnet) (0.10.0)\n",
            "Requirement already satisfied, skipping upgrade: six in /usr/local/lib/python3.6/dist-packages (from h5py->keras-applications<=1.0.8,>=1.0.7->efficientnet) (1.15.0)\n",
            "Installing collected packages: keras-applications, efficientnet\n",
            "Successfully installed efficientnet-1.1.1 keras-applications-1.0.8\n"
          ],
          "name": "stdout"
        }
      ]
    },
    {
      "cell_type": "code",
      "metadata": {
        "id": "h6fPJf0_DQCR"
      },
      "source": [
        "import efficientnet.keras as efn"
      ],
      "execution_count": null,
      "outputs": []
    },
    {
      "cell_type": "code",
      "metadata": {
        "colab": {
          "base_uri": "https://localhost:8080/"
        },
        "id": "Lby6ZZlJDP_I",
        "outputId": "e03cc8ba-6219-4935-d1a1-e5bae5ec5741"
      },
      "source": [
        "base_model = efn.EfficientNetB0(input_shape = (32, 32, 3), include_top = False, weights = 'imagenet')\n"
      ],
      "execution_count": null,
      "outputs": [
        {
          "output_type": "stream",
          "text": [
            "Downloading data from https://github.com/Callidior/keras-applications/releases/download/efficientnet/efficientnet-b0_weights_tf_dim_ordering_tf_kernels_autoaugment_notop.h5\n",
            "16809984/16804768 [==============================] - 0s 0us/step\n"
          ],
          "name": "stdout"
        }
      ]
    },
    {
      "cell_type": "code",
      "metadata": {
        "id": "gZwEffrnDP8Y"
      },
      "source": [
        "for layer in base_model.layers:\n",
        "    layer.trainable = False"
      ],
      "execution_count": null,
      "outputs": []
    },
    {
      "cell_type": "code",
      "metadata": {
        "id": "NXmM_dB2DP49"
      },
      "source": [
        "x = base_model.output\n",
        "x = Flatten()(x)\n",
        "x = Dense(512, activation=\"relu\")(x)\n",
        "x = Dropout(0.5)(x)\n",
        "predictions = Dense(5, activation=\"softmax\")(x)\n",
        "final_model= Model(base_model.input, predictions)"
      ],
      "execution_count": null,
      "outputs": []
    },
    {
      "cell_type": "code",
      "metadata": {
        "id": "JPnq72jKDP1L"
      },
      "source": [
        "final_model.compile(tf.keras.optimizers.Adam(learning_rate=0.001),loss='categorical_crossentropy',metrics=['accuracy'])"
      ],
      "execution_count": null,
      "outputs": []
    },
    {
      "cell_type": "code",
      "metadata": {
        "colab": {
          "base_uri": "https://localhost:8080/"
        },
        "id": "XrCo3f8YECr0",
        "outputId": "c0b11c58-3007-4fc4-c24d-287740c9c3c0"
      },
      "source": [
        "history=final_model.fit(x_train, y_train,epochs=40,validation_split=0.2,verbose=1,steps_per_epoch = 50)"
      ],
      "execution_count": null,
      "outputs": [
        {
          "output_type": "stream",
          "text": [
            "Epoch 1/40\n",
            "50/50 [==============================] - 3s 62ms/step - loss: 1.1137 - accuracy: 0.5122 - val_loss: 0.9926 - val_accuracy: 0.5740\n",
            "Epoch 2/40\n",
            "50/50 [==============================] - 2s 43ms/step - loss: 1.0099 - accuracy: 0.5728 - val_loss: 0.9675 - val_accuracy: 0.5748\n",
            "Epoch 3/40\n",
            "50/50 [==============================] - 2s 40ms/step - loss: 0.9787 - accuracy: 0.5849 - val_loss: 0.9379 - val_accuracy: 0.5970\n",
            "Epoch 4/40\n",
            "50/50 [==============================] - 2s 42ms/step - loss: 0.9642 - accuracy: 0.5922 - val_loss: 0.9165 - val_accuracy: 0.6147\n",
            "Epoch 5/40\n",
            "50/50 [==============================] - 2s 42ms/step - loss: 0.9505 - accuracy: 0.5979 - val_loss: 0.9148 - val_accuracy: 0.6152\n",
            "Epoch 6/40\n",
            "50/50 [==============================] - 2s 41ms/step - loss: 0.9425 - accuracy: 0.5964 - val_loss: 0.9049 - val_accuracy: 0.6198\n",
            "Epoch 7/40\n",
            "50/50 [==============================] - 2s 40ms/step - loss: 0.9442 - accuracy: 0.5947 - val_loss: 0.8980 - val_accuracy: 0.6235\n",
            "Epoch 8/40\n",
            "50/50 [==============================] - 2s 41ms/step - loss: 0.9363 - accuracy: 0.6021 - val_loss: 0.9065 - val_accuracy: 0.6179\n",
            "Epoch 9/40\n",
            "50/50 [==============================] - 2s 41ms/step - loss: 0.9248 - accuracy: 0.6090 - val_loss: 0.8867 - val_accuracy: 0.6297\n",
            "Epoch 10/40\n",
            "50/50 [==============================] - 2s 41ms/step - loss: 0.9147 - accuracy: 0.6136 - val_loss: 0.8882 - val_accuracy: 0.6318\n",
            "Epoch 11/40\n",
            "50/50 [==============================] - 2s 41ms/step - loss: 0.9235 - accuracy: 0.6094 - val_loss: 0.8781 - val_accuracy: 0.6364\n",
            "Epoch 12/40\n",
            "50/50 [==============================] - 2s 42ms/step - loss: 0.9143 - accuracy: 0.6149 - val_loss: 0.8778 - val_accuracy: 0.6337\n",
            "Epoch 13/40\n",
            "50/50 [==============================] - 2s 41ms/step - loss: 0.9100 - accuracy: 0.6167 - val_loss: 0.8804 - val_accuracy: 0.6318\n",
            "Epoch 14/40\n",
            "50/50 [==============================] - 2s 43ms/step - loss: 0.9052 - accuracy: 0.6201 - val_loss: 0.8766 - val_accuracy: 0.6321\n",
            "Epoch 15/40\n",
            "50/50 [==============================] - 2s 42ms/step - loss: 0.9124 - accuracy: 0.6152 - val_loss: 0.8979 - val_accuracy: 0.6104\n",
            "Epoch 16/40\n",
            "50/50 [==============================] - 2s 43ms/step - loss: 0.9014 - accuracy: 0.6185 - val_loss: 0.8735 - val_accuracy: 0.6375\n",
            "Epoch 17/40\n",
            "50/50 [==============================] - 2s 41ms/step - loss: 0.8957 - accuracy: 0.6212 - val_loss: 0.8739 - val_accuracy: 0.6359\n",
            "Epoch 18/40\n",
            "50/50 [==============================] - 2s 42ms/step - loss: 0.8945 - accuracy: 0.6278 - val_loss: 0.8685 - val_accuracy: 0.6356\n",
            "Epoch 19/40\n",
            "50/50 [==============================] - 2s 44ms/step - loss: 0.8908 - accuracy: 0.6233 - val_loss: 0.8659 - val_accuracy: 0.6409\n",
            "Epoch 20/40\n",
            "50/50 [==============================] - 2s 43ms/step - loss: 0.8913 - accuracy: 0.6196 - val_loss: 0.8628 - val_accuracy: 0.6380\n",
            "Epoch 21/40\n",
            "50/50 [==============================] - 2s 41ms/step - loss: 0.8894 - accuracy: 0.6290 - val_loss: 0.8612 - val_accuracy: 0.6426\n",
            "Epoch 22/40\n",
            "50/50 [==============================] - 2s 42ms/step - loss: 0.8779 - accuracy: 0.6291 - val_loss: 0.8560 - val_accuracy: 0.6444\n",
            "Epoch 23/40\n",
            "50/50 [==============================] - 2s 41ms/step - loss: 0.8890 - accuracy: 0.6293 - val_loss: 0.8656 - val_accuracy: 0.6393\n",
            "Epoch 24/40\n",
            "50/50 [==============================] - 2s 41ms/step - loss: 0.8868 - accuracy: 0.6220 - val_loss: 0.8734 - val_accuracy: 0.6463\n",
            "Epoch 25/40\n",
            "50/50 [==============================] - 2s 41ms/step - loss: 0.8848 - accuracy: 0.6283 - val_loss: 0.8760 - val_accuracy: 0.6206\n",
            "Epoch 26/40\n",
            "50/50 [==============================] - 2s 41ms/step - loss: 0.8854 - accuracy: 0.6232 - val_loss: 0.8647 - val_accuracy: 0.6391\n",
            "Epoch 27/40\n",
            "50/50 [==============================] - 2s 41ms/step - loss: 0.8734 - accuracy: 0.6344 - val_loss: 0.8712 - val_accuracy: 0.6463\n",
            "Epoch 28/40\n",
            "50/50 [==============================] - 2s 41ms/step - loss: 0.8848 - accuracy: 0.6265 - val_loss: 0.8527 - val_accuracy: 0.6492\n",
            "Epoch 29/40\n",
            "50/50 [==============================] - 2s 41ms/step - loss: 0.8792 - accuracy: 0.6298 - val_loss: 0.8599 - val_accuracy: 0.6487\n",
            "Epoch 30/40\n",
            "50/50 [==============================] - 2s 41ms/step - loss: 0.8720 - accuracy: 0.6331 - val_loss: 0.8656 - val_accuracy: 0.6313\n",
            "Epoch 31/40\n",
            "50/50 [==============================] - 2s 42ms/step - loss: 0.8853 - accuracy: 0.6283 - val_loss: 0.8656 - val_accuracy: 0.6484\n",
            "Epoch 32/40\n",
            "50/50 [==============================] - 2s 41ms/step - loss: 0.8730 - accuracy: 0.6313 - val_loss: 0.8505 - val_accuracy: 0.6490\n",
            "Epoch 33/40\n",
            "50/50 [==============================] - 2s 42ms/step - loss: 0.8631 - accuracy: 0.6381 - val_loss: 0.8549 - val_accuracy: 0.6431\n",
            "Epoch 34/40\n",
            "50/50 [==============================] - 2s 43ms/step - loss: 0.8627 - accuracy: 0.6346 - val_loss: 0.8556 - val_accuracy: 0.6417\n",
            "Epoch 35/40\n",
            "50/50 [==============================] - 2s 41ms/step - loss: 0.8591 - accuracy: 0.6388 - val_loss: 0.8584 - val_accuracy: 0.6458\n",
            "Epoch 36/40\n",
            "50/50 [==============================] - 2s 44ms/step - loss: 0.8639 - accuracy: 0.6388 - val_loss: 0.8545 - val_accuracy: 0.6420\n",
            "Epoch 37/40\n",
            "50/50 [==============================] - 2s 42ms/step - loss: 0.8615 - accuracy: 0.6376 - val_loss: 0.8513 - val_accuracy: 0.6463\n",
            "Epoch 38/40\n",
            "50/50 [==============================] - 2s 43ms/step - loss: 0.8542 - accuracy: 0.6444 - val_loss: 0.8533 - val_accuracy: 0.6479\n",
            "Epoch 39/40\n",
            "50/50 [==============================] - 2s 41ms/step - loss: 0.8527 - accuracy: 0.6411 - val_loss: 0.8528 - val_accuracy: 0.6447\n",
            "Epoch 40/40\n",
            "50/50 [==============================] - 2s 43ms/step - loss: 0.8604 - accuracy: 0.6348 - val_loss: 0.8509 - val_accuracy: 0.6434\n"
          ],
          "name": "stdout"
        }
      ]
    },
    {
      "cell_type": "code",
      "metadata": {
        "id": "9rjbPEILYO_i"
      },
      "source": [
        ""
      ],
      "execution_count": null,
      "outputs": []
    },
    {
      "cell_type": "markdown",
      "metadata": {
        "id": "t53hd23vYQOs"
      },
      "source": [
        "**Plotting Graph**"
      ]
    },
    {
      "cell_type": "code",
      "metadata": {
        "colab": {
          "base_uri": "https://localhost:8080/",
          "height": 295
        },
        "id": "ltz2S1KEECo0",
        "outputId": "da366601-4a05-4736-e95a-ea81807cce51"
      },
      "source": [
        "from matplotlib import pyplot as plt\n",
        "import keras\n",
        "plt.plot(history.history['accuracy'])\n",
        "plt.plot(history.history['val_accuracy'])\n",
        "plt.title('model accuracy')\n",
        "plt.ylabel('accuracy')\n",
        "plt.xlabel('epoch')\n",
        "plt.legend(['train', 'val'], loc='upper left')\n",
        "plt.show()\n"
      ],
      "execution_count": null,
      "outputs": [
        {
          "output_type": "display_data",
          "data": {
            "image/png": "[encoded data removed]",
            "text/plain": [
              "<Figure size 432x288 with 1 Axes>"
            ]
          },
          "metadata": {
            "tags": [],
            "needs_background": "light"
          }
        }
      ]
    },
    {
      "cell_type": "code",
      "metadata": {
        "colab": {
          "base_uri": "https://localhost:8080/",
          "height": 295
        },
        "id": "HtfZkfaaPM8h",
        "outputId": "bb470a4b-14a1-4f04-ab28-38c17347d2c1"
      },
      "source": [
        "plt.plot(history.history['loss'])\n",
        "plt.plot(history.history['val_loss'])\n",
        "plt.title('model loss')\n",
        "plt.ylabel('loss')\n",
        "plt.xlabel('epoch')\n",
        "plt.legend(['train', 'val'], loc='upper left')\n",
        "plt.show()"
      ],
      "execution_count": null,
      "outputs": [
        {
          "output_type": "display_data",
          "data": {
            "image/png": "[encoded data removed]",
            "text/plain": [
              "<Figure size 432x288 with 1 Axes>"
            ]
          },
          "metadata": {
            "tags": [],
            "needs_background": "light"
          }
        }
      ]
    },
    {
      "cell_type": "code",
      "metadata": {
        "id": "2XWS82t_PNRI"
      },
      "source": [
        "y_pred1=model.predict(x_test)\n",
        "y_pred = np.argmax(y_pred1,axis=1)"
      ],
      "execution_count": null,
      "outputs": []
    },
    {
      "cell_type": "code",
      "metadata": {
        "id": "3EWz2tTDPNj-"
      },
      "source": [
        "y_true = np.argmax(y_test,axis=1)"
      ],
      "execution_count": null,
      "outputs": []
    },
    {
      "cell_type": "markdown",
      "metadata": {
        "id": "jNGX5fCEYX36"
      },
      "source": [
        "**Evaluation Metrics**<br><br>\n",
        "**Precision** : The precision is the ratio tp / (tp + fp) where tp is the number of true positives and fp the number of false positives. The precision is intuitively the ability of the classifier not to label as positive a sample that is negative.\n",
        "<br>\n",
        "<br>\n",
        "**Recall** : The recall is the ratio tp / (tp + fn) where tp is the number of true positives and fn the number of false negatives. The recall is intuitively the ability of the classifier to find all the positive samples.\n",
        "<br> \n",
        "<br>\n",
        "**F1 Score**: The F1 score can be interpreted as a weighted average of the precision and recall, where an F1 score reaches its best value at 1 and worst score at 0. The relative contribution of precision and recall to the F1 score are equal. <br>\n",
        "The formula for the F1 score is:\n",
        "\n",
        "F1 = 2 * (precision * recall) / (precision + recall)\n",
        "<br>\n",
        "<br>\n",
        "**Accuracy** : Accuracy is the measurement used to determine which model is best at identifying relationships and patterns between variables in a dataset based on the input, or training, data.\n"
      ]
    },
    {
      "cell_type": "code",
      "metadata": {
        "colab": {
          "base_uri": "https://localhost:8080/"
        },
        "id": "c9F1reZKPNhZ",
        "outputId": "e1bdf8fa-e836-45c3-8b9c-aaa621d993f1"
      },
      "source": [
        "from sklearn.metrics import accuracy_score\n",
        "print(\"accuracy :\",accuracy_score(y_true, y_pred))\n",
        "\n",
        "from sklearn.metrics import f1_score\n",
        "print(\"f1-score : \",end=\"\")\n",
        "print(f1_score(y_true, y_pred, average='macro'))\n",
        "\n",
        "from sklearn.metrics import recall_score\n",
        "print(\"recall : \",recall_score(y_true, y_pred, average='macro'))\n",
        "\n",
        "from sklearn.metrics import precision_score\n",
        "print(\"precision : \",end=\"\")\n",
        "precision_score(y_true, y_pred, average='macro')\n",
        "\n"
      ],
      "execution_count": null,
      "outputs": [
        {
          "output_type": "stream",
          "text": [
            "accuracy : 0.7093247588424437\n",
            "f1-score : 0.5963098452130061\n",
            "recall :  0.5717391659009204\n",
            "precision : "
          ],
          "name": "stdout"
        },
        {
          "output_type": "execute_result",
          "data": {
            "text/plain": [
              "0.6335671459904552"
            ]
          },
          "metadata": {
            "tags": []
          },
          "execution_count": 376
        }
      ]
    },
    {
      "cell_type": "markdown",
      "metadata": {
        "id": "SWNeW3bHYaNQ"
      },
      "source": [
        "**Confusion Matrix :** A confusion matrix is a table that is often used to describe the performance of a classification model (or \"classifier\") on a set of test data for which the true values are known. "
      ]
    },
    {
      "cell_type": "code",
      "metadata": {
        "id": "Fl_4MOLIPNOP"
      },
      "source": [
        "from sklearn.metrics import confusion_matrix\n",
        "print(\"confusion matrix : \")\n",
        "print()\n",
        "print(confusion_matrix(y_true, y_pred))\n",
        "print (\"\\nconfusion matrix in % \")\n",
        "print ()\n",
        "print(confusion_matrix(y_true, y_pred)/((len(y_true)/5)+1))\n"
      ],
      "execution_count": null,
      "outputs": []
    },
    {
      "cell_type": "code",
      "metadata": {
        "id": "bIrkt4lsPM5Y"
      },
      "source": [
        ""
      ],
      "execution_count": null,
      "outputs": []
    },
    {
      "cell_type": "code",
      "metadata": {
        "id": "XPSMA2UjPM2L"
      },
      "source": [
        ""
      ],
      "execution_count": null,
      "outputs": []
    },
    {
      "cell_type": "markdown",
      "metadata": {
        "id": "eqLQ5mkZq7xT"
      },
      "source": [
        "**Applying LeNet5 Architecture for image of size 32*32**"
      ]
    },
    {
      "cell_type": "code",
      "metadata": {
        "id": "KwG3W50yrdzR"
      },
      "source": [
        "import keras\n",
        "lenet_5_model = keras.models.Sequential([\n",
        "    keras.layers.Conv2D(6, kernel_size=5, strides=1,  activation='tanh', input_shape=x_train[0].shape, padding='same'), #C1\n",
        "    keras.layers.AveragePooling2D(), #S2\n",
        "    keras.layers.Conv2D(16, kernel_size=5, strides=1, activation='tanh', padding='valid'), #C3\n",
        "    keras.layers.AveragePooling2D(), #S4\n",
        "    keras.layers.Flatten(), #Flatten\n",
        "    keras.layers.Dense(120, activation='relu'), #C5\n",
        "    keras.layers.Dense(84, activation='relu'), #F6  \n",
        "    keras.layers.Dense(5, activation='softmax') #Output layer\n",
        "])"
      ],
      "execution_count": null,
      "outputs": []
    },
    {
      "cell_type": "code",
      "metadata": {
        "id": "D-zGv-uQrfst"
      },
      "source": [
        "lenet_5_model.compile(optimizer='adam', loss='categorical_crossentropy', metrics=['accuracy'])\n",
        "# model.compile(optimizer='adam', loss='categorical_crossentropy', metrics=['accuracy'])"
      ],
      "execution_count": null,
      "outputs": []
    },
    {
      "cell_type": "code",
      "metadata": {
        "id": "xP88F3TLrggp",
        "colab": {
          "base_uri": "https://localhost:8080/"
        },
        "outputId": "ad940625-d6c7-4d63-a815-1a7705d67269"
      },
      "source": [
        "lenet_5_history=lenet_5_model.fit(x_train, y_train,epochs=60, shuffle=True,verbose=1)"
      ],
      "execution_count": null,
      "outputs": [
        {
          "output_type": "stream",
          "text": [
            "Epoch 1/60\n",
            "583/583 [==============================] - 2s 3ms/step - loss: 0.8693 - accuracy: 0.6683\n",
            "Epoch 2/60\n",
            "583/583 [==============================] - 2s 3ms/step - loss: 0.7537 - accuracy: 0.7162\n",
            "Epoch 3/60\n",
            "583/583 [==============================] - 2s 3ms/step - loss: 0.7253 - accuracy: 0.7258\n",
            "Epoch 4/60\n",
            "583/583 [==============================] - 2s 3ms/step - loss: 0.7090 - accuracy: 0.7313\n",
            "Epoch 5/60\n",
            "583/583 [==============================] - 2s 3ms/step - loss: 0.6925 - accuracy: 0.7370\n",
            "Epoch 6/60\n",
            "583/583 [==============================] - 2s 3ms/step - loss: 0.6750 - accuracy: 0.7404\n",
            "Epoch 7/60\n",
            "583/583 [==============================] - 2s 3ms/step - loss: 0.6580 - accuracy: 0.7481\n",
            "Epoch 8/60\n",
            "583/583 [==============================] - 2s 3ms/step - loss: 0.6396 - accuracy: 0.7536\n",
            "Epoch 9/60\n",
            "583/583 [==============================] - 2s 3ms/step - loss: 0.6272 - accuracy: 0.7586\n",
            "Epoch 10/60\n",
            "583/583 [==============================] - 2s 3ms/step - loss: 0.6002 - accuracy: 0.7683\n",
            "Epoch 11/60\n",
            "583/583 [==============================] - 2s 3ms/step - loss: 0.5775 - accuracy: 0.7745\n",
            "Epoch 12/60\n",
            "583/583 [==============================] - 2s 3ms/step - loss: 0.5526 - accuracy: 0.7826\n",
            "Epoch 13/60\n",
            "583/583 [==============================] - 2s 3ms/step - loss: 0.5307 - accuracy: 0.7904\n",
            "Epoch 14/60\n",
            "583/583 [==============================] - 2s 3ms/step - loss: 0.5073 - accuracy: 0.8002\n",
            "Epoch 15/60\n",
            "583/583 [==============================] - 2s 3ms/step - loss: 0.4708 - accuracy: 0.8167\n",
            "Epoch 16/60\n",
            "583/583 [==============================] - 2s 3ms/step - loss: 0.4403 - accuracy: 0.8274\n",
            "Epoch 17/60\n",
            "583/583 [==============================] - 2s 3ms/step - loss: 0.4164 - accuracy: 0.8352\n",
            "Epoch 18/60\n",
            "583/583 [==============================] - 2s 3ms/step - loss: 0.3806 - accuracy: 0.8524\n",
            "Epoch 19/60\n",
            "583/583 [==============================] - 2s 3ms/step - loss: 0.3542 - accuracy: 0.8607\n",
            "Epoch 20/60\n",
            "583/583 [==============================] - 2s 3ms/step - loss: 0.3217 - accuracy: 0.8747\n",
            "Epoch 21/60\n",
            "583/583 [==============================] - 2s 3ms/step - loss: 0.3020 - accuracy: 0.8821\n",
            "Epoch 22/60\n",
            "583/583 [==============================] - 2s 3ms/step - loss: 0.2735 - accuracy: 0.8959\n",
            "Epoch 23/60\n",
            "583/583 [==============================] - 2s 3ms/step - loss: 0.2469 - accuracy: 0.9037\n",
            "Epoch 24/60\n",
            "583/583 [==============================] - 2s 3ms/step - loss: 0.2256 - accuracy: 0.9114\n",
            "Epoch 25/60\n",
            "583/583 [==============================] - 2s 3ms/step - loss: 0.2089 - accuracy: 0.9179\n",
            "Epoch 26/60\n",
            "583/583 [==============================] - 2s 3ms/step - loss: 0.1776 - accuracy: 0.9325\n",
            "Epoch 27/60\n",
            "583/583 [==============================] - 2s 3ms/step - loss: 0.1752 - accuracy: 0.9326\n",
            "Epoch 28/60\n",
            "583/583 [==============================] - 2s 3ms/step - loss: 0.1534 - accuracy: 0.9415\n",
            "Epoch 29/60\n",
            "583/583 [==============================] - 2s 3ms/step - loss: 0.1415 - accuracy: 0.9469\n",
            "Epoch 30/60\n",
            "583/583 [==============================] - 2s 3ms/step - loss: 0.1277 - accuracy: 0.9528\n",
            "Epoch 31/60\n",
            "583/583 [==============================] - 2s 3ms/step - loss: 0.1110 - accuracy: 0.9601\n",
            "Epoch 32/60\n",
            "583/583 [==============================] - 2s 3ms/step - loss: 0.1047 - accuracy: 0.9615\n",
            "Epoch 33/60\n",
            "583/583 [==============================] - 2s 3ms/step - loss: 0.0945 - accuracy: 0.9660\n",
            "Epoch 34/60\n",
            "583/583 [==============================] - 2s 3ms/step - loss: 0.0978 - accuracy: 0.9650\n",
            "Epoch 35/60\n",
            "583/583 [==============================] - 2s 3ms/step - loss: 0.0917 - accuracy: 0.9672\n",
            "Epoch 36/60\n",
            "583/583 [==============================] - 2s 3ms/step - loss: 0.0900 - accuracy: 0.9671\n",
            "Epoch 37/60\n",
            "583/583 [==============================] - 2s 3ms/step - loss: 0.0813 - accuracy: 0.9710\n",
            "Epoch 38/60\n",
            "583/583 [==============================] - 2s 3ms/step - loss: 0.0659 - accuracy: 0.9775\n",
            "Epoch 39/60\n",
            "583/583 [==============================] - 2s 3ms/step - loss: 0.0838 - accuracy: 0.9696\n",
            "Epoch 40/60\n",
            "583/583 [==============================] - 2s 3ms/step - loss: 0.0736 - accuracy: 0.9726\n",
            "Epoch 41/60\n",
            "583/583 [==============================] - 2s 3ms/step - loss: 0.0495 - accuracy: 0.9840\n",
            "Epoch 42/60\n",
            "583/583 [==============================] - 2s 3ms/step - loss: 0.0627 - accuracy: 0.9780\n",
            "Epoch 43/60\n",
            "583/583 [==============================] - 2s 3ms/step - loss: 0.0621 - accuracy: 0.9779\n",
            "Epoch 44/60\n",
            "583/583 [==============================] - 2s 3ms/step - loss: 0.0617 - accuracy: 0.9790\n",
            "Epoch 45/60\n",
            "583/583 [==============================] - 2s 3ms/step - loss: 0.0552 - accuracy: 0.9812\n",
            "Epoch 46/60\n",
            "583/583 [==============================] - 2s 3ms/step - loss: 0.0532 - accuracy: 0.9813\n",
            "Epoch 47/60\n",
            "583/583 [==============================] - 2s 3ms/step - loss: 0.0610 - accuracy: 0.9781\n",
            "Epoch 48/60\n",
            "583/583 [==============================] - 2s 3ms/step - loss: 0.0536 - accuracy: 0.9818\n",
            "Epoch 49/60\n",
            "583/583 [==============================] - 2s 3ms/step - loss: 0.0393 - accuracy: 0.9854\n",
            "Epoch 50/60\n",
            "583/583 [==============================] - 2s 3ms/step - loss: 0.0396 - accuracy: 0.9861\n",
            "Epoch 51/60\n",
            "583/583 [==============================] - 2s 3ms/step - loss: 0.0760 - accuracy: 0.9742\n",
            "Epoch 52/60\n",
            "583/583 [==============================] - 2s 3ms/step - loss: 0.0418 - accuracy: 0.9850\n",
            "Epoch 53/60\n",
            "583/583 [==============================] - 2s 3ms/step - loss: 0.0348 - accuracy: 0.9887\n",
            "Epoch 54/60\n",
            "583/583 [==============================] - 2s 3ms/step - loss: 0.0785 - accuracy: 0.9726\n",
            "Epoch 55/60\n",
            "583/583 [==============================] - 2s 3ms/step - loss: 0.0445 - accuracy: 0.9846\n",
            "Epoch 56/60\n",
            "583/583 [==============================] - 2s 3ms/step - loss: 0.0341 - accuracy: 0.9885\n",
            "Epoch 57/60\n",
            "583/583 [==============================] - 2s 3ms/step - loss: 0.0566 - accuracy: 0.9809\n",
            "Epoch 58/60\n",
            "583/583 [==============================] - 2s 3ms/step - loss: 0.0496 - accuracy: 0.9827\n",
            "Epoch 59/60\n",
            "583/583 [==============================] - 2s 3ms/step - loss: 0.0377 - accuracy: 0.9875\n",
            "Epoch 60/60\n",
            "583/583 [==============================] - 2s 3ms/step - loss: 0.0260 - accuracy: 0.9912\n"
          ],
          "name": "stdout"
        }
      ]
    },
    {
      "cell_type": "code",
      "metadata": {
        "id": "-bip9qhDYmGJ"
      },
      "source": [
        ""
      ],
      "execution_count": null,
      "outputs": []
    },
    {
      "cell_type": "markdown",
      "metadata": {
        "id": "NcZPhlTiYm__"
      },
      "source": [
        "**Plotting Graph**"
      ]
    },
    {
      "cell_type": "code",
      "metadata": {
        "id": "jnx92gDgrgeS",
        "colab": {
          "base_uri": "https://localhost:8080/",
          "height": 295
        },
        "outputId": "3892dbea-adb0-4bac-e846-0eeeecf7cf2e"
      },
      "source": [
        "from matplotlib import pyplot as plt\n",
        "import keras\n",
        "plt.plot(lenet_5_history.history['accuracy'])\n",
        "plt.plot(lenet_5_history.history['val_accuracy'])\n",
        "plt.title('model accuracy')\n",
        "plt.ylabel('accuracy')\n",
        "plt.xlabel('epoch')\n",
        "plt.legend(['train', 'val'], loc='upper left')\n",
        "plt.show()"
      ],
      "execution_count": null,
      "outputs": [
        {
          "output_type": "display_data",
          "data": {
            "image/png": "[encoded data removed]",
            "text/plain": [
              "<Figure size 432x288 with 1 Axes>"
            ]
          },
          "metadata": {
            "tags": [],
            "needs_background": "light"
          }
        }
      ]
    },
    {
      "cell_type": "code",
      "metadata": {
        "id": "tX_YG8-Zrgbn",
        "colab": {
          "base_uri": "https://localhost:8080/",
          "height": 295
        },
        "outputId": "01c4d7d1-b2aa-44be-c98a-114f286997f2"
      },
      "source": [
        "plt.plot(lenet_5_history.history['loss'])\n",
        "plt.plot(lenet_5_history.history['val_loss'])\n",
        "plt.title('model loss')\n",
        "plt.ylabel('loss')\n",
        "plt.xlabel('epoch')\n",
        "plt.legend(['train', 'val'], loc='upper left')\n",
        "plt.show()"
      ],
      "execution_count": null,
      "outputs": [
        {
          "output_type": "display_data",
          "data": {
            "image/png": "[encoded data removed]",
            "text/plain": [
              "<Figure size 432x288 with 1 Axes>"
            ]
          },
          "metadata": {
            "tags": [],
            "needs_background": "light"
          }
        }
      ]
    },
    {
      "cell_type": "code",
      "metadata": {
        "id": "HeupB5YUrgZY"
      },
      "source": [
        "# y_pred=lenet_5_model.predict_classes(x_test) \n",
        "y_pred1=lenet_5_model.predict(x_test)\n",
        "y_pred = np.argmax(y_pred1,axis=1) "
      ],
      "execution_count": null,
      "outputs": []
    },
    {
      "cell_type": "code",
      "metadata": {
        "id": "1ccM3WEsrfp0"
      },
      "source": [
        "y_true = np.argmax(y_test,axis=1)"
      ],
      "execution_count": null,
      "outputs": []
    },
    {
      "cell_type": "markdown",
      "metadata": {
        "id": "dSWDQqOZYsqZ"
      },
      "source": [
        "**Evaluation Metrics**<br><br>\n",
        "**Precision** : The precision is the ratio tp / (tp + fp) where tp is the number of true positives and fp the number of false positives. The precision is intuitively the ability of the classifier not to label as positive a sample that is negative.\n",
        "<br>\n",
        "<br>\n",
        "**Recall** : The recall is the ratio tp / (tp + fn) where tp is the number of true positives and fn the number of false negatives. The recall is intuitively the ability of the classifier to find all the positive samples.\n",
        "<br> \n",
        "<br>\n",
        "**F1 Score**: The F1 score can be interpreted as a weighted average of the precision and recall, where an F1 score reaches its best value at 1 and worst score at 0. The relative contribution of precision and recall to the F1 score are equal. <br>\n",
        "The formula for the F1 score is:\n",
        "\n",
        "F1 = 2 * (precision * recall) / (precision + recall)\n",
        "<br>\n",
        "<br>\n",
        "**Accuracy** : Accuracy is the measurement used to determine which model is best at identifying relationships and patterns between variables in a dataset based on the input, or training, data.\n"
      ]
    },
    {
      "cell_type": "code",
      "metadata": {
        "id": "pnlwQJ2urfn5",
        "colab": {
          "base_uri": "https://localhost:8080/"
        },
        "outputId": "8f013892-ce6b-4de8-c009-b7f1092193d5"
      },
      "source": [
        "from sklearn.metrics import accuracy_score\n",
        "print(\"accuracy :\",accuracy_score(y_true, y_pred))\n"
      ],
      "execution_count": null,
      "outputs": [
        {
          "output_type": "stream",
          "text": [
            "accuracy : 0.6964630225080386\n"
          ],
          "name": "stdout"
        }
      ]
    },
    {
      "cell_type": "code",
      "metadata": {
        "id": "7v3WWgF7rflN",
        "colab": {
          "base_uri": "https://localhost:8080/"
        },
        "outputId": "7999d279-4c8c-48dd-979a-73f1b51894fe"
      },
      "source": [
        "from sklearn.metrics import f1_score\n",
        "print(\"f1-score : \",end=\"\")\n",
        "print(f1_score(y_true, y_pred, average='macro'))\n",
        "\n",
        "from sklearn.metrics import recall_score\n",
        "print(\"recall : \",recall_score(y_true, y_pred, average='macro'))\n",
        "\n",
        "from sklearn.metrics import precision_score\n",
        "print(\"precision : \",end=\"\")\n",
        "precision_score(y_true, y_pred, average='macro')\n"
      ],
      "execution_count": null,
      "outputs": [
        {
          "output_type": "stream",
          "text": [
            "f1-score : 0.5674434873523655\n",
            "recall :  0.5461926826909126\n",
            "precision : "
          ],
          "name": "stdout"
        },
        {
          "output_type": "execute_result",
          "data": {
            "text/plain": [
              "0.5975508558656222"
            ]
          },
          "metadata": {
            "tags": []
          },
          "execution_count": 449
        }
      ]
    },
    {
      "cell_type": "markdown",
      "metadata": {
        "id": "a0K3tFzBYwnn"
      },
      "source": [
        "**Confusion Matrix :** A confusion matrix is a table that is often used to describe the performance of a classification model (or \"classifier\") on a set of test data for which the true values are known. "
      ]
    },
    {
      "cell_type": "code",
      "metadata": {
        "id": "WmDrmXXArfjF",
        "colab": {
          "base_uri": "https://localhost:8080/"
        },
        "outputId": "be1e0ec2-9c80-4cdb-e232-3f838bf06ae9"
      },
      "source": [
        "from sklearn.metrics import confusion_matrix\n",
        "print(\"confusion matrix : \")\n",
        "print()\n",
        "print(confusion_matrix(y_true, y_pred))\n",
        "print (\"\\nconfusion matrix in % \")\n",
        "print ()\n",
        "print(confusion_matrix(y_true, y_pred)/((len(y_true)/5)+1))\n"
      ],
      "execution_count": null,
      "outputs": [
        {
          "output_type": "stream",
          "text": [
            "confusion matrix : \n",
            "\n",
            "[[1453  352  136   32   27]\n",
            " [ 411 1542   30   17    1]\n",
            " [ 154   32   84   13    7]\n",
            " [  83   30   26  105    6]\n",
            " [  45    6    3    5   65]]\n",
            "\n",
            "confusion matrix in % \n",
            "\n",
            "[[1.55567452e+00 3.76873662e-01 1.45610278e-01 3.42612420e-02\n",
            "  2.89079229e-02]\n",
            " [4.40042827e-01 1.65096360e+00 3.21199143e-02 1.82012848e-02\n",
            "  1.07066381e-03]\n",
            " [1.64882227e-01 3.42612420e-02 8.99357602e-02 1.39186296e-02\n",
            "  7.49464668e-03]\n",
            " [8.88650964e-02 3.21199143e-02 2.78372591e-02 1.12419700e-01\n",
            "  6.42398287e-03]\n",
            " [4.81798715e-02 6.42398287e-03 3.21199143e-03 5.35331906e-03\n",
            "  6.95931478e-02]]\n"
          ],
          "name": "stdout"
        }
      ]
    },
    {
      "cell_type": "code",
      "metadata": {
        "id": "GxkwCymgrfgx"
      },
      "source": [
        ""
      ],
      "execution_count": null,
      "outputs": []
    },
    {
      "cell_type": "code",
      "metadata": {
        "id": "RaF9WOKYrfeF"
      },
      "source": [
        ""
      ],
      "execution_count": null,
      "outputs": []
    },
    {
      "cell_type": "markdown",
      "metadata": {
        "id": "kF-a7PqoSuOj"
      },
      "source": [
        "**Alexnet for image of size 32*32**"
      ]
    },
    {
      "cell_type": "code",
      "metadata": {
        "id": "diSl8qiwSeS7"
      },
      "source": [
        "import keras\n",
        "alexnet_model = keras.models.Sequential([\n",
        "    keras.layers.Conv2D(filters=96, kernel_size=(11,11), strides=(4,4), activation='relu', input_shape=x_train[0].shape),\n",
        "    keras.layers.BatchNormalization(),\n",
        "    keras.layers.MaxPool2D(pool_size=(2,2), strides=(1,1)),\n",
        "    keras.layers.Conv2D(filters=256, kernel_size=(5,5), strides=(1,1), activation='relu', padding=\"same\"),\n",
        "    keras.layers.BatchNormalization(),\n",
        "    keras.layers.MaxPool2D(pool_size=(2,2), strides=(1,1)),\n",
        "    keras.layers.Conv2D(filters=384, kernel_size=(3,3), strides=(1,1), activation='relu', padding=\"same\"),\n",
        "    keras.layers.BatchNormalization(),\n",
        "    keras.layers.Conv2D(filters=384, kernel_size=(1,1), strides=(1,1), activation='relu', padding=\"same\"),\n",
        "    keras.layers.BatchNormalization(),\n",
        "    keras.layers.Conv2D(filters=256, kernel_size=(1,1), strides=(1,1), activation='relu', padding=\"same\"),\n",
        "    keras.layers.BatchNormalization(),\n",
        "    keras.layers.MaxPool2D(pool_size=(2,2), strides=(1,1)),\n",
        "    keras.layers.Flatten(),\n",
        "    keras.layers.Dense(4096, activation='relu'),\n",
        "    keras.layers.Dropout(0.5),\n",
        "    keras.layers.Dense(4096, activation='relu'),\n",
        "    keras.layers.Dropout(0.5),\n",
        "    keras.layers.Dense(5, activation='softmax')\n",
        "])  "
      ],
      "execution_count": null,
      "outputs": []
    },
    {
      "cell_type": "code",
      "metadata": {
        "id": "ZT5rPPRkSeZg"
      },
      "source": [
        "import tensorflow as tf\n",
        "alexnet_model.compile(loss='categorical_crossentropy', optimizer=tf.optimizers.SGD(lr=0.001), metrics=['accuracy'])"
      ],
      "execution_count": null,
      "outputs": []
    },
    {
      "cell_type": "code",
      "metadata": {
        "id": "dK6PUEW4Sedu",
        "colab": {
          "base_uri": "https://localhost:8080/"
        },
        "outputId": "0ee801dd-7912-47ad-aa75-fe65afce5d56"
      },
      "source": [
        "alexnet_history=alexnet_model.fit(x_train, y_train,epochs=40,validation_split=0.2, shuffle=True,verbose=1)"
      ],
      "execution_count": null,
      "outputs": [
        {
          "output_type": "stream",
          "text": [
            "Epoch 1/40\n",
            "467/467 [==============================] - 5s 10ms/step - loss: 1.2895 - accuracy: 0.5557 - val_loss: 0.9346 - val_accuracy: 0.6254\n",
            "Epoch 2/40\n",
            "467/467 [==============================] - 5s 10ms/step - loss: 1.0180 - accuracy: 0.6319 - val_loss: 0.9929 - val_accuracy: 0.6294\n",
            "Epoch 3/40\n",
            "467/467 [==============================] - 4s 10ms/step - loss: 0.9219 - accuracy: 0.6607 - val_loss: 0.7911 - val_accuracy: 0.7071\n",
            "Epoch 4/40\n",
            "467/467 [==============================] - 5s 10ms/step - loss: 0.8667 - accuracy: 0.6804 - val_loss: 0.7389 - val_accuracy: 0.7195\n",
            "Epoch 5/40\n",
            "467/467 [==============================] - 5s 10ms/step - loss: 0.8238 - accuracy: 0.6963 - val_loss: 0.7766 - val_accuracy: 0.6988\n",
            "Epoch 6/40\n",
            "467/467 [==============================] - 5s 10ms/step - loss: 0.7959 - accuracy: 0.7019 - val_loss: 0.9400 - val_accuracy: 0.6436\n",
            "Epoch 7/40\n",
            "467/467 [==============================] - 5s 10ms/step - loss: 0.7684 - accuracy: 0.7113 - val_loss: 0.7281 - val_accuracy: 0.7275\n",
            "Epoch 8/40\n",
            "467/467 [==============================] - 5s 10ms/step - loss: 0.7427 - accuracy: 0.7206 - val_loss: 1.0881 - val_accuracy: 0.5654\n",
            "Epoch 9/40\n",
            "467/467 [==============================] - 5s 10ms/step - loss: 0.7236 - accuracy: 0.7264 - val_loss: 1.1068 - val_accuracy: 0.4981\n",
            "Epoch 10/40\n",
            "467/467 [==============================] - 5s 10ms/step - loss: 0.7070 - accuracy: 0.7325 - val_loss: 0.8200 - val_accuracy: 0.6854\n",
            "Epoch 11/40\n",
            "467/467 [==============================] - 5s 10ms/step - loss: 0.6929 - accuracy: 0.7420 - val_loss: 0.9008 - val_accuracy: 0.6436\n",
            "Epoch 12/40\n",
            "467/467 [==============================] - 5s 10ms/step - loss: 0.6792 - accuracy: 0.7439 - val_loss: 0.8039 - val_accuracy: 0.6902\n",
            "Epoch 13/40\n",
            "467/467 [==============================] - 5s 10ms/step - loss: 0.6650 - accuracy: 0.7501 - val_loss: 0.7223 - val_accuracy: 0.7205\n",
            "Epoch 14/40\n",
            "467/467 [==============================] - 5s 10ms/step - loss: 0.6438 - accuracy: 0.7570 - val_loss: 1.1823 - val_accuracy: 0.5702\n",
            "Epoch 15/40\n",
            "467/467 [==============================] - 5s 10ms/step - loss: 0.6326 - accuracy: 0.7640 - val_loss: 0.6999 - val_accuracy: 0.7355\n",
            "Epoch 16/40\n",
            "467/467 [==============================] - 5s 10ms/step - loss: 0.6207 - accuracy: 0.7704 - val_loss: 0.7855 - val_accuracy: 0.6916\n",
            "Epoch 17/40\n",
            "467/467 [==============================] - 5s 10ms/step - loss: 0.6131 - accuracy: 0.7670 - val_loss: 0.8596 - val_accuracy: 0.6321\n",
            "Epoch 18/40\n",
            "467/467 [==============================] - 5s 10ms/step - loss: 0.5852 - accuracy: 0.7781 - val_loss: 1.0369 - val_accuracy: 0.6101\n",
            "Epoch 19/40\n",
            "467/467 [==============================] - 5s 10ms/step - loss: 0.5760 - accuracy: 0.7832 - val_loss: 0.7442 - val_accuracy: 0.7229\n",
            "Epoch 20/40\n",
            "467/467 [==============================] - 5s 10ms/step - loss: 0.5567 - accuracy: 0.7905 - val_loss: 0.7221 - val_accuracy: 0.7299\n",
            "Epoch 21/40\n",
            "467/467 [==============================] - 5s 10ms/step - loss: 0.5388 - accuracy: 0.7930 - val_loss: 1.0334 - val_accuracy: 0.6195\n",
            "Epoch 22/40\n",
            "467/467 [==============================] - 5s 10ms/step - loss: 0.5205 - accuracy: 0.8041 - val_loss: 0.9746 - val_accuracy: 0.6136\n",
            "Epoch 23/40\n",
            "467/467 [==============================] - 5s 10ms/step - loss: 0.5051 - accuracy: 0.8110 - val_loss: 0.7785 - val_accuracy: 0.7243\n",
            "Epoch 24/40\n",
            "467/467 [==============================] - 5s 10ms/step - loss: 0.4823 - accuracy: 0.8200 - val_loss: 0.7682 - val_accuracy: 0.7227\n",
            "Epoch 25/40\n",
            "467/467 [==============================] - 5s 10ms/step - loss: 0.4685 - accuracy: 0.8236 - val_loss: 1.0009 - val_accuracy: 0.6431\n",
            "Epoch 26/40\n",
            "467/467 [==============================] - 5s 10ms/step - loss: 0.4439 - accuracy: 0.8350 - val_loss: 1.0072 - val_accuracy: 0.6514\n",
            "Epoch 27/40\n",
            "467/467 [==============================] - 5s 10ms/step - loss: 0.4356 - accuracy: 0.8372 - val_loss: 1.3808 - val_accuracy: 0.6040\n",
            "Epoch 28/40\n",
            "467/467 [==============================] - 5s 10ms/step - loss: 0.4090 - accuracy: 0.8431 - val_loss: 1.7712 - val_accuracy: 0.5359\n",
            "Epoch 29/40\n",
            "467/467 [==============================] - 5s 10ms/step - loss: 0.3932 - accuracy: 0.8528 - val_loss: 1.2966 - val_accuracy: 0.5423\n",
            "Epoch 30/40\n",
            "467/467 [==============================] - 5s 10ms/step - loss: 0.3666 - accuracy: 0.8648 - val_loss: 0.9803 - val_accuracy: 0.6841\n",
            "Epoch 31/40\n",
            "467/467 [==============================] - 5s 10ms/step - loss: 0.3500 - accuracy: 0.8713 - val_loss: 1.2742 - val_accuracy: 0.5745\n",
            "Epoch 32/40\n",
            "467/467 [==============================] - 5s 10ms/step - loss: 0.3363 - accuracy: 0.8752 - val_loss: 1.2812 - val_accuracy: 0.6635\n",
            "Epoch 33/40\n",
            "467/467 [==============================] - 5s 10ms/step - loss: 0.3204 - accuracy: 0.8821 - val_loss: 1.1917 - val_accuracy: 0.6565\n",
            "Epoch 34/40\n",
            "467/467 [==============================] - 5s 10ms/step - loss: 0.2914 - accuracy: 0.8959 - val_loss: 1.2097 - val_accuracy: 0.6235\n",
            "Epoch 35/40\n",
            "467/467 [==============================] - 5s 10ms/step - loss: 0.2834 - accuracy: 0.8963 - val_loss: 1.9802 - val_accuracy: 0.5681\n",
            "Epoch 36/40\n",
            "467/467 [==============================] - 5s 10ms/step - loss: 0.2587 - accuracy: 0.9058 - val_loss: 3.5441 - val_accuracy: 0.4802\n",
            "Epoch 37/40\n",
            "467/467 [==============================] - 5s 10ms/step - loss: 0.2549 - accuracy: 0.9061 - val_loss: 1.1402 - val_accuracy: 0.6785\n",
            "Epoch 38/40\n",
            "467/467 [==============================] - 5s 10ms/step - loss: 0.2342 - accuracy: 0.9118 - val_loss: 1.6133 - val_accuracy: 0.6123\n",
            "Epoch 39/40\n",
            "467/467 [==============================] - 5s 10ms/step - loss: 0.2251 - accuracy: 0.9192 - val_loss: 1.2272 - val_accuracy: 0.6768\n",
            "Epoch 40/40\n",
            "467/467 [==============================] - 5s 10ms/step - loss: 0.1961 - accuracy: 0.9307 - val_loss: 1.4491 - val_accuracy: 0.6385\n"
          ],
          "name": "stdout"
        }
      ]
    },
    {
      "cell_type": "markdown",
      "metadata": {
        "id": "tIScL0wElUZf"
      },
      "source": [
        "**Plotting Graph**"
      ]
    },
    {
      "cell_type": "code",
      "metadata": {
        "id": "M1kLHUVRlZoD",
        "colab": {
          "base_uri": "https://localhost:8080/",
          "height": 295
        },
        "outputId": "e6f382e0-1a28-486f-eb74-1dd0fddaa290"
      },
      "source": [
        "from matplotlib import pyplot as plt\n",
        "import keras\n",
        "plt.plot(alexnet_history.history['accuracy'])\n",
        "plt.plot(alexnet_history.history['val_accuracy'])\n",
        "plt.title('model accuracy')\n",
        "plt.ylabel('accuracy')\n",
        "plt.xlabel('epoch')\n",
        "plt.legend(['train', 'val'], loc='upper left')\n",
        "plt.show()\n"
      ],
      "execution_count": null,
      "outputs": [
        {
          "output_type": "display_data",
          "data": {
            "image/png": "[encoded data removed]",
            "text/plain": [
              "<Figure size 432x288 with 1 Axes>"
            ]
          },
          "metadata": {
            "tags": [],
            "needs_background": "light"
          }
        }
      ]
    },
    {
      "cell_type": "code",
      "metadata": {
        "id": "Vw4XaQ9MlccL",
        "colab": {
          "base_uri": "https://localhost:8080/",
          "height": 295
        },
        "outputId": "8ee2a8eb-92a7-4203-febc-25d692ac93ef"
      },
      "source": [
        "plt.plot(alexnet_history.history['loss'])\n",
        "plt.plot(alexnet_history.history['val_loss'])\n",
        "plt.title('model loss')\n",
        "plt.ylabel('loss')\n",
        "plt.xlabel('epoch')\n",
        "plt.legend(['train', 'val'], loc='upper left')\n",
        "plt.show()\n"
      ],
      "execution_count": null,
      "outputs": [
        {
          "output_type": "display_data",
          "data": {
            "image/png": "[encoded data removed]",
            "text/plain": [
              "<Figure size 432x288 with 1 Axes>"
            ]
          },
          "metadata": {
            "tags": [],
            "needs_background": "light"
          }
        }
      ]
    },
    {
      "cell_type": "code",
      "metadata": {
        "id": "nhrBK2gElcUE"
      },
      "source": [
        ""
      ],
      "execution_count": null,
      "outputs": []
    },
    {
      "cell_type": "markdown",
      "metadata": {
        "id": "ZS4tpYPLlhBY"
      },
      "source": [
        "**Evaluation Metrics**<br><br>\n",
        "**Precision** : The precision is the ratio tp / (tp + fp) where tp is the number of true positives and fp the number of false positives. The precision is intuitively the ability of the classifier not to label as positive a sample that is negative.\n",
        "<br>\n",
        "<br>\n",
        "**Recall** : The recall is the ratio tp / (tp + fn) where tp is the number of true positives and fn the number of false negatives. The recall is intuitively the ability of the classifier to find all the positive samples.\n",
        "<br> \n",
        "<br>\n",
        "**F1 Score**: The F1 score can be interpreted as a weighted average of the precision and recall, where an F1 score reaches its best value at 1 and worst score at 0. The relative contribution of precision and recall to the F1 score are equal. <br>\n",
        "The formula for the F1 score is:\n",
        "\n",
        "F1 = 2 * (precision * recall) / (precision + recall)\n",
        "<br>\n",
        "<br>\n",
        "**Accuracy** : Accuracy is the measurement used to determine which model is best at identifying relationships and patterns between variables in a dataset based on the input, or training, data.\n"
      ]
    },
    {
      "cell_type": "code",
      "metadata": {
        "id": "BSjOs68JTOg4"
      },
      "source": [
        "# y_pred=alexnet_model.predict_classes(x_test)\n",
        "# y_true = np.argmax(y_test,axis=1)\n",
        "y_pred1=model.predict(x_test)\n",
        "y_pred = np.argmax(y_pred1,axis=1)"
      ],
      "execution_count": null,
      "outputs": []
    },
    {
      "cell_type": "code",
      "metadata": {
        "id": "hLxOKPEASeuU",
        "colab": {
          "base_uri": "https://localhost:8080/"
        },
        "outputId": "421940fb-f616-4064-b8bc-fa74d9b19a7e"
      },
      "source": [
        "from sklearn.metrics import accuracy_score\n",
        "print(\"accuracy :\",accuracy_score(y_true, y_pred))\n"
      ],
      "execution_count": null,
      "outputs": [
        {
          "output_type": "stream",
          "text": [
            "accuracy : 0.7209003215434083\n"
          ],
          "name": "stdout"
        }
      ]
    },
    {
      "cell_type": "code",
      "metadata": {
        "id": "6JjFboMISerf",
        "colab": {
          "base_uri": "https://localhost:8080/"
        },
        "outputId": "0702e7a3-2f23-437d-9fa5-9788874301f7"
      },
      "source": [
        "from sklearn.metrics import f1_score\n",
        "print(\"f1-score : \",end=\"\")\n",
        "print(f1_score(y_true, y_pred, average='macro'))\n",
        "\n",
        "from sklearn.metrics import recall_score\n",
        "print(\"recall : \",recall_score(y_true, y_pred, average='macro'))\n",
        "\n",
        "from sklearn.metrics import precision_score\n",
        "print(\"precision : \",end=\"\")\n",
        "precision_score(y_true, y_pred, average='macro')\n"
      ],
      "execution_count": null,
      "outputs": [
        {
          "output_type": "stream",
          "text": [
            "f1-score : 0.5906818075641425\n",
            "recall :  0.5600052828424497\n",
            "precision : "
          ],
          "name": "stdout"
        },
        {
          "output_type": "execute_result",
          "data": {
            "text/plain": [
              "0.6525555196799391"
            ]
          },
          "metadata": {
            "tags": []
          },
          "execution_count": 459
        }
      ]
    },
    {
      "cell_type": "markdown",
      "metadata": {
        "id": "LYMgIvSFZPDE"
      },
      "source": [
        "**Confusion Matrix :** A confusion matrix is a table that is often used to describe the performance of a classification model (or \"classifier\") on a set of test data for which the true values are known. "
      ]
    },
    {
      "cell_type": "code",
      "metadata": {
        "id": "w8uh55xtSeWO",
        "colab": {
          "base_uri": "https://localhost:8080/"
        },
        "outputId": "f33d7d98-5a23-41f1-fdfc-1e328ddd9664"
      },
      "source": [
        "from sklearn.metrics import confusion_matrix\n",
        "print(\"confusion matrix : \")\n",
        "print()\n",
        "print(confusion_matrix(y_true, y_pred))\n",
        "print (\"\\nconfusion matrix in % \")\n",
        "print ()\n",
        "print(confusion_matrix(y_true, y_pred)/((len(y_true)/5)+1))\n"
      ],
      "execution_count": null,
      "outputs": [
        {
          "output_type": "stream",
          "text": [
            "confusion matrix : \n",
            "\n",
            "[[1547  376   34   25   18]\n",
            " [ 389 1577   18   12    5]\n",
            " [ 188   37   48   13    4]\n",
            " [  81   30   19  115    5]\n",
            " [  35   11    0    2   76]]\n",
            "\n",
            "confusion matrix in % \n",
            "\n",
            "[[1.65631692 0.40256959 0.03640257 0.0267666  0.01927195]\n",
            " [0.41648822 1.68843683 0.01927195 0.01284797 0.00535332]\n",
            " [0.2012848  0.03961456 0.05139186 0.01391863 0.00428266]\n",
            " [0.08672377 0.03211991 0.02034261 0.12312634 0.00535332]\n",
            " [0.03747323 0.0117773  0.         0.00214133 0.08137045]]\n"
          ],
          "name": "stdout"
        }
      ]
    },
    {
      "cell_type": "code",
      "metadata": {
        "id": "811HPglhSeQZ"
      },
      "source": [
        ""
      ],
      "execution_count": null,
      "outputs": []
    },
    {
      "cell_type": "code",
      "metadata": {
        "id": "G46b-oxCSeNl"
      },
      "source": [
        ""
      ],
      "execution_count": null,
      "outputs": []
    },
    {
      "cell_type": "markdown",
      "metadata": {
        "id": "2DAWkwdTVBms"
      },
      "source": [
        "**Applying SVC**"
      ]
    },
    {
      "cell_type": "code",
      "metadata": {
        "id": "FkBF-hhOVAdD",
        "colab": {
          "base_uri": "https://localhost:8080/"
        },
        "outputId": "45400fee-f0a9-4c29-8195-c9fd5676970b"
      },
      "source": [
        "print(x_data[0].shape)\n",
        "x_data_resahped=x_data.reshape(len(x_data),-1)\n",
        "print(x_data_resahped.shape)"
      ],
      "execution_count": null,
      "outputs": [
        {
          "output_type": "stream",
          "text": [
            "(32, 32, 3)\n",
            "(23321, 3072)\n"
          ],
          "name": "stdout"
        }
      ]
    },
    {
      "cell_type": "code",
      "metadata": {
        "id": "VdNzuBNPVpr1"
      },
      "source": [
        "#added code\n",
        "x_data_resahped1=x_data_resahped\n",
        "\n",
        "np.concatenate((x_data_resahped1,br_np),axis=1)\n",
        "print(x_data_resahped1.shape)\n",
        "np.concatenate((x_data_resahped1,cntr_np),axis=1)\n",
        "print(x_data_resahped1.shape)"
      ],
      "execution_count": null,
      "outputs": []
    },
    {
      "cell_type": "code",
      "metadata": {
        "id": "p_HCv-9hVAmD",
        "colab": {
          "base_uri": "https://localhost:8080/"
        },
        "outputId": "05631160-4b94-48f7-88eb-a4b66c362ce5"
      },
      "source": [
        "y_data=np.array(labels)\n",
        "y_data=y_data.reshape(-1,1)\n",
        "print(y_data.shape)\n",
        "y_data_reshaped=y_data.reshape(-1,1)\n",
        "print(y_data_reshaped.shape)"
      ],
      "execution_count": null,
      "outputs": [
        {
          "output_type": "stream",
          "text": [
            "(23321, 1)\n",
            "(23321, 1)\n"
          ],
          "name": "stdout"
        }
      ]
    },
    {
      "cell_type": "code",
      "metadata": {
        "id": "NJtTvxKlAjcS"
      },
      "source": [
        "x_train, x_test, y_train, y_test = train_test_split(x_data_resahped1,y_data_reshaped, test_size=0.2, random_state=42)"
      ],
      "execution_count": null,
      "outputs": []
    },
    {
      "cell_type": "code",
      "metadata": {
        "id": "-ZsJzwpDVArE",
        "colab": {
          "base_uri": "https://localhost:8080/"
        },
        "outputId": "a0898db4-8465-4bb1-e6d6-d7511bd2c3ff"
      },
      "source": [
        "print(\"x_train shape : \",x_train.shape)\n",
        "print(\"x_test shape  : \",x_test.shape)\n",
        "print(\"y_train shape : \",y_train.shape)\n",
        "print(\"y_test shape  : \",y_test.shape)"
      ],
      "execution_count": null,
      "outputs": [
        {
          "output_type": "stream",
          "text": [
            "x_train shape :  (18656, 3072)\n",
            "x_test shape  :  (4665, 3072)\n",
            "y_train shape :  (18656, 1)\n",
            "y_test shape  :  (4665, 1)\n"
          ],
          "name": "stdout"
        }
      ]
    },
    {
      "cell_type": "code",
      "metadata": {
        "id": "6tp9V9b1VAjZ"
      },
      "source": [
        ""
      ],
      "execution_count": null,
      "outputs": []
    },
    {
      "cell_type": "code",
      "metadata": {
        "id": "FAwVKDQMVAg4"
      },
      "source": [
        "from sklearn.pipeline import make_pipeline\n",
        "from sklearn.preprocessing import StandardScaler\n",
        "from sklearn.svm import SVC\n",
        "clf = make_pipeline(StandardScaler(), SVC(gamma='auto'))\n",
        "clf.fit(x_train, y_train.ravel())"
      ],
      "execution_count": null,
      "outputs": []
    },
    {
      "cell_type": "code",
      "metadata": {
        "id": "4jkjLTxmVAaj"
      },
      "source": [
        "y_pred= clf.predict(x_test)"
      ],
      "execution_count": null,
      "outputs": []
    },
    {
      "cell_type": "markdown",
      "metadata": {
        "id": "1luGV8caZjht"
      },
      "source": [
        "**Evaluation Metrics**<br><br>\n",
        "**Precision** : The precision is the ratio tp / (tp + fp) where tp is the number of true positives and fp the number of false positives. The precision is intuitively the ability of the classifier not to label as positive a sample that is negative.\n",
        "<br>\n",
        "<br>\n",
        "**Recall** : The recall is the ratio tp / (tp + fn) where tp is the number of true positives and fn the number of false negatives. The recall is intuitively the ability of the classifier to find all the positive samples.\n",
        "<br> \n",
        "<br>\n",
        "**F1 Score**: The F1 score can be interpreted as a weighted average of the precision and recall, where an F1 score reaches its best value at 1 and worst score at 0. The relative contribution of precision and recall to the F1 score are equal. <br>\n",
        "The formula for the F1 score is:\n",
        "\n",
        "F1 = 2 * (precision * recall) / (precision + recall)\n",
        "<br>\n",
        "<br>\n",
        "**Accuracy** : Accuracy is the measurement used to determine which model is best at identifying relationships and patterns between variables in a dataset based on the input, or training, data.\n"
      ]
    },
    {
      "cell_type": "code",
      "metadata": {
        "id": "z-wdMUYYF2Zv"
      },
      "source": [
        "from sklearn.metrics import accuracy_score\n",
        "print(\"accuracy :\",accuracy_score(y_test, y_pred))\n"
      ],
      "execution_count": null,
      "outputs": []
    },
    {
      "cell_type": "code",
      "metadata": {
        "id": "Yt8u20nEV4JO"
      },
      "source": [
        "from sklearn.metrics import f1_score\n",
        "print(\"f1-score : \",end=\"\")\n",
        "print(f1_score(y_true, y_pred, average='macro'))\n",
        "\n",
        "print(\"recall : \",recall_score(y_true, y_pred, average='macro'))\n",
        "\n",
        "print(\"precision : \",end=\"\")\n",
        "precision_score(y_true, y_pred, average='macro')\n"
      ],
      "execution_count": null,
      "outputs": []
    },
    {
      "cell_type": "markdown",
      "metadata": {
        "id": "YT4RzB6QZoG9"
      },
      "source": [
        "**Confusion Matrix :** A confusion matrix is a table that is often used to describe the performance of a classification model (or \"classifier\") on a set of test data for which the true values are known. "
      ]
    },
    {
      "cell_type": "code",
      "metadata": {
        "id": "INMUlvyNV4Gc",
        "colab": {
          "base_uri": "https://localhost:8080/"
        },
        "outputId": "ef52cc54-a847-4028-dde5-d4b2c00d3075"
      },
      "source": [
        "from sklearn.metrics import confusion_matrix\n",
        "print(\"confusion matrix : \")\n",
        "print()\n",
        "print(confusion_matrix(y_test, y_pred))\n",
        "print (\"\\nconfusion matrix in % \")\n",
        "print ()\n",
        "print(confusion_matrix(y_test, y_pred)/(len(y_test)/5))\n",
        "# plot_confusion_matrix(y_true, y_pred, classes=class_names, normalize=True, title='Normalized confusion matrix')"
      ],
      "execution_count": null,
      "outputs": [
        {
          "output_type": "stream",
          "text": [
            "confusion matrix : \n",
            "\n",
            "[[36 19 30  6  9]\n",
            " [19 42 10 15  2]\n",
            " [27 15 52  9  5]\n",
            " [ 7 15 23 64  2]\n",
            " [ 5  8  6  3 71]]\n",
            "\n",
            "confusion matrix in % \n",
            "\n",
            "[[0.36 0.19 0.3  0.06 0.09]\n",
            " [0.19 0.42 0.1  0.15 0.02]\n",
            " [0.27 0.15 0.52 0.09 0.05]\n",
            " [0.07 0.15 0.23 0.64 0.02]\n",
            " [0.05 0.08 0.06 0.03 0.71]]\n"
          ],
          "name": "stdout"
        }
      ]
    },
    {
      "cell_type": "code",
      "metadata": {
        "id": "701pDZfkV4D-"
      },
      "source": [
        ""
      ],
      "execution_count": null,
      "outputs": []
    },
    {
      "cell_type": "code",
      "metadata": {
        "id": "UXCONq6fV4BO"
      },
      "source": [
        ""
      ],
      "execution_count": null,
      "outputs": []
    },
    {
      "cell_type": "markdown",
      "metadata": {
        "id": "vFTij6yhomsQ"
      },
      "source": [
        "**Applying random forest**"
      ]
    },
    {
      "cell_type": "code",
      "metadata": {
        "id": "N6YPy58UV3-Z"
      },
      "source": [
        "from sklearn.ensemble import RandomForestClassifier\n",
        "rf = RandomForestClassifier(bootstrap=False,\n",
        "                            max_leaf_nodes=None,\n",
        "                            n_estimators=12,  # The number of trees in the forest\n",
        "                            min_weight_fraction_leaf=0.0,\n",
        "                            )"
      ],
      "execution_count": null,
      "outputs": []
    },
    {
      "cell_type": "code",
      "metadata": {
        "id": "GcBihOSNV37j"
      },
      "source": [
        "rf.fit(x_train, y_train.ravel())"
      ],
      "execution_count": null,
      "outputs": []
    },
    {
      "cell_type": "code",
      "metadata": {
        "id": "KTL9MNjkV347"
      },
      "source": [
        "y_pred1=rf.predict(x_test)"
      ],
      "execution_count": null,
      "outputs": []
    },
    {
      "cell_type": "markdown",
      "metadata": {
        "id": "8G-qrB4KZvL2"
      },
      "source": [
        "**Evaluation Metrics**<br><br>\n",
        "**Precision** : The precision is the ratio tp / (tp + fp) where tp is the number of true positives and fp the number of false positives. The precision is intuitively the ability of the classifier not to label as positive a sample that is negative.\n",
        "<br>\n",
        "<br>\n",
        "**Recall** : The recall is the ratio tp / (tp + fn) where tp is the number of true positives and fn the number of false negatives. The recall is intuitively the ability of the classifier to find all the positive samples.\n",
        "<br> \n",
        "<br>\n",
        "**F1 Score**: The F1 score can be interpreted as a weighted average of the precision and recall, where an F1 score reaches its best value at 1 and worst score at 0. The relative contribution of precision and recall to the F1 score are equal. <br>\n",
        "The formula for the F1 score is:\n",
        "\n",
        "F1 = 2 * (precision * recall) / (precision + recall)\n",
        "<br>\n",
        "<br>\n",
        "**Accuracy** : Accuracy is the measurement used to determine which model is best at identifying relationships and patterns between variables in a dataset based on the input, or training, data.\n"
      ]
    },
    {
      "cell_type": "code",
      "metadata": {
        "id": "nRq3xmz9o3NV",
        "colab": {
          "base_uri": "https://localhost:8080/"
        },
        "outputId": "e7efcb31-5027-47e0-eb58-20461c2ac849"
      },
      "source": [
        "from sklearn.metrics import accuracy_score\n",
        "print(\"accuracy :\",accuracy_score(y_test, y_pred1))\n"
      ],
      "execution_count": null,
      "outputs": [
        {
          "output_type": "stream",
          "text": [
            "accuracy : 0.544\n"
          ],
          "name": "stdout"
        }
      ]
    },
    {
      "cell_type": "code",
      "metadata": {
        "id": "gpjX8jTSo3Te",
        "colab": {
          "base_uri": "https://localhost:8080/"
        },
        "outputId": "c59ae1a0-b1f7-4c0c-fedd-8d306ffbc97c"
      },
      "source": [
        "from sklearn.metrics import f1_score\n",
        "print(\"f1-score : \",end=\"\")\n",
        "print(f1_score(y_true, y_pred1, average='macro'))\n",
        "\n",
        "print(\"recall : \",recall_score(y_true, y_pred1, average='macro'))\n",
        "\n",
        "print(\"precision : \",end=\"\")\n",
        "precision_score(y_true, y_pred1, average='macro')\n"
      ],
      "execution_count": null,
      "outputs": [
        {
          "output_type": "stream",
          "text": [
            "f1-score : 0.5496557914219337\n",
            "recall :  0.5466654425686684\n",
            "precision : "
          ],
          "name": "stdout"
        },
        {
          "output_type": "execute_result",
          "data": {
            "text/plain": [
              "0.5577381362195031"
            ]
          },
          "metadata": {
            "tags": []
          },
          "execution_count": 54
        }
      ]
    },
    {
      "cell_type": "markdown",
      "metadata": {
        "id": "_HzDu_igZz8J"
      },
      "source": [
        "\n",
        "**Confusion Matrix :** A confusion matrix is a table that is often used to describe the performance of a classification model (or \"classifier\") on a set of test data for which the true values are known. "
      ]
    },
    {
      "cell_type": "code",
      "metadata": {
        "id": "AO8RH4Xfo3dd",
        "colab": {
          "base_uri": "https://localhost:8080/"
        },
        "outputId": "207adf5c-ca29-4f2b-e6c3-ab68e5787c56"
      },
      "source": [
        "from sklearn.metrics import confusion_matrix\n",
        "print(\"confusion matrix : \")\n",
        "print()\n",
        "print(confusion_matrix(y_test, y_pred1))\n",
        "print (\"\\nconfusion matrix in % \")\n",
        "print ()\n",
        "print(confusion_matrix(y_test, y_pred1)/(len(y_test)/5))\n",
        "# plot_confusion_matrix(y_true, y_pred, classes=class_names, normalize=True, title='Normalized confusion matrix')"
      ],
      "execution_count": null,
      "outputs": [
        {
          "output_type": "stream",
          "text": [
            "confusion matrix : \n",
            "\n",
            "[[46 19 19  6 10]\n",
            " [23 45  5 14  1]\n",
            " [31 11 51 10  5]\n",
            " [10 20 16 62  3]\n",
            " [ 7 10  6  2 68]]\n",
            "\n",
            "confusion matrix in % \n",
            "\n",
            "[[0.46 0.19 0.19 0.06 0.1 ]\n",
            " [0.23 0.45 0.05 0.14 0.01]\n",
            " [0.31 0.11 0.51 0.1  0.05]\n",
            " [0.1  0.2  0.16 0.62 0.03]\n",
            " [0.07 0.1  0.06 0.02 0.68]]\n"
          ],
          "name": "stdout"
        }
      ]
    },
    {
      "cell_type": "code",
      "metadata": {
        "id": "2fMNwhHoo3aU"
      },
      "source": [
        ""
      ],
      "execution_count": null,
      "outputs": []
    },
    {
      "cell_type": "code",
      "metadata": {
        "id": "7tJir6aY00mJ"
      },
      "source": [
        ""
      ],
      "execution_count": null,
      "outputs": []
    },
    {
      "cell_type": "code",
      "metadata": {
        "id": "yoUs9daIcDM1"
      },
      "source": [
        ""
      ],
      "execution_count": null,
      "outputs": []
    },
    {
      "cell_type": "code",
      "metadata": {
        "id": "iPBtwDQo003O"
      },
      "source": [
        ""
      ],
      "execution_count": null,
      "outputs": []
    }
  ]
}